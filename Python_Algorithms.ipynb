{
  "nbformat": 4,
  "nbformat_minor": 0,
  "metadata": {
    "colab": {
      "provenance": []
    },
    "kernelspec": {
      "name": "python3",
      "display_name": "Python 3"
    },
    "language_info": {
      "name": "python"
    }
  },
  "cells": [
    {
      "cell_type": "markdown",
      "source": [
        "---\n",
        "---\n",
        "\n",
        "# Introduction to Python Algorithms\n",
        "- A course by Aditya Saxena\n",
        "\n",
        "---\n",
        "---\n",
        "\n",
        "\n",
        "\n",
        "Welcome to the course: **Mastering Algorithms with Python**\n",
        "\n",
        "In this course, we explore the most important algorithms every Python developer should know—organized by domain. This course will blend theory with hands-on Python implementations to develop both understanding and skill.\n",
        "\n",
        "---\n",
        "\n",
        "**Course Objectives:**\n",
        "- Understand algorithmic problem-solving.\n",
        "- Implement core algorithms in Python.\n",
        "- Apply algorithms to real-world problems in various domains.\n",
        "\n",
        "**Covered Domains:**\n",
        "1. Sorting and Searching\n",
        "2. Graph Algorithms\n",
        "3. Dynamic Programming\n",
        "4. Machine Learning Algorithms\n",
        "5. String Algorithms\n",
        "6. Tree Algorithms\n",
        "7. Computational Geometry\n",
        "8. Greedy Algorithms\n",
        "9. Backtracking Algorithms\n",
        "10. Cryptographic Algorithms\n",
        "\n",
        "---\n"
      ],
      "metadata": {
        "id": "zT8UPg2HTjXD"
      }
    },
    {
      "cell_type": "code",
      "execution_count": 2,
      "metadata": {
        "colab": {
          "base_uri": "https://localhost:8080/"
        },
        "id": "gjWT7IhVS7vF",
        "outputId": "009f33fc-d7f4-4c39-dda7-553259e383b6"
      },
      "outputs": [
        {
          "output_type": "stream",
          "name": "stdout",
          "text": [
            "Environment ready for algorithmic exploration!\n",
            "\n",
            "You're all set! Start by opening any of the following notebooks as we go deeper:\n",
            "1. Sorting_Searching.ipynb\n",
            "2. Graph_Algorithms.ipynb\n",
            "3. Dynamic_Programming.ipynb\n",
            "4. Machine_Learning.ipynb\n",
            "5. String_Algorithms.ipynb\n",
            "6. Tree_Algorithms.ipynb\n",
            "7. Computational_Geometry.ipynb\n",
            "8. Greedy_Algorithms.ipynb\n",
            "9. Backtracking_Algorithms.ipynb\n",
            "10. Cryptographic_Algorithms.ipynb\n"
          ]
        }
      ],
      "source": [
        "# Common imports\n",
        "import math\n",
        "import random\n",
        "import heapq\n",
        "import hashlib\n",
        "from collections import deque, defaultdict\n",
        "import numpy as np\n",
        "import pandas as pd\n",
        "import matplotlib.pyplot as plt\n",
        "from typing import List, Tuple, Dict, Set\n",
        "\n",
        "print(\"Environment ready for algorithmic exploration!\")\n",
        "\n",
        "# Utility: Timer for performance checking\n",
        "import time\n",
        "\n",
        "def timer(func):\n",
        "    def wrapper(*args, **kwargs):\n",
        "        start = time.time()\n",
        "        result = func(*args, **kwargs)\n",
        "        end = time.time()\n",
        "        print(f\"Executed in {end - start:.6f} seconds\")\n",
        "        return result\n",
        "    return wrapper\n",
        "\n",
        "# Placeholder for exploration\n",
        "print(\"\\nYou're all set! Start by opening any of the following notebooks as we go deeper:\")\n",
        "print(\"1. Sorting_Searching.ipynb\")\n",
        "print(\"2. Graph_Algorithms.ipynb\")\n",
        "print(\"3. Dynamic_Programming.ipynb\")\n",
        "print(\"4. Machine_Learning.ipynb\")\n",
        "print(\"5. String_Algorithms.ipynb\")\n",
        "print(\"6. Tree_Algorithms.ipynb\")\n",
        "print(\"7. Computational_Geometry.ipynb\")\n",
        "print(\"8. Greedy_Algorithms.ipynb\")\n",
        "print(\"9. Backtracking_Algorithms.ipynb\")\n",
        "print(\"10. Cryptographic_Algorithms.ipynb\")\n"
      ]
    },
    {
      "cell_type": "markdown",
      "source": [
        "## **1. Sorting and Searching**\n",
        "---\n",
        "\n",
        "Quick Sort – Efficient, divide-and-conquer sorting algorithm.\n",
        "\n",
        "Merge Sort – Stable sort using recursion and merging.\n",
        "\n",
        "Binary Search – Fast element lookup in sorted arrays."
      ],
      "metadata": {
        "id": "HMHhUJTLTvqC"
      }
    },
    {
      "cell_type": "markdown",
      "source": [
        "---\n",
        "### **📘 Quick Sort**\n",
        "---\n",
        "**🔧 How It Works:**\n",
        "Quick Sort sorts a list by choosing a pivot element, then splitting the list into two parts—elements less than the pivot and those greater than or equal to it. It then recursively sorts each part and combines them with the pivot in between. This approach breaks the problem into smaller pieces until everything is sorted.\n",
        "\n",
        "**⚙️ Performance:**\n",
        "- Best case: O(n log n)\n",
        "- Average case: O(n log n)\n",
        "- Worst case: O(n²) (when pivot is poorly chosen)\n",
        "- Space: O(log n) for recursion stack (in-place sort)"
      ],
      "metadata": {
        "id": "16CgmOPPVrBm"
      }
    },
    {
      "cell_type": "code",
      "source": [
        "def quick_sort(arr):\n",
        "    if len(arr) <= 1:\n",
        "        return arr\n",
        "    pivot = arr[0]\n",
        "    left = [x for x in arr[1:] if x < pivot]\n",
        "    right = [x for x in arr[1:] if x >= pivot]\n",
        "    return quick_sort(left) + [pivot] + quick_sort(right)"
      ],
      "metadata": {
        "id": "2Cv8vO8AVqYJ"
      },
      "execution_count": 3,
      "outputs": []
    },
    {
      "cell_type": "code",
      "source": [
        "import time\n",
        "\n",
        "# Test Case 1\n",
        "arr1 = [5, 3, 8, 4, 2]\n",
        "start = time.time()\n",
        "sorted_arr1 = quick_sort(arr1)\n",
        "end = time.time()\n",
        "print(\"Input:\", arr1)\n",
        "print(\"Sorted:\", sorted_arr1)\n",
        "print(f\"Time taken: {end - start:.6f} seconds\")\n",
        "# Explanation: [5, 3, 8, 4, 2] is sorted to [2, 3, 4, 5, 8]\n",
        "\n",
        "# Test Case 2\n",
        "arr2 = [1, 1, 1, 1]\n",
        "start = time.time()\n",
        "sorted_arr2 = quick_sort(arr2)\n",
        "end = time.time()\n",
        "print(\"\\nInput:\", arr2)\n",
        "print(\"Sorted:\", sorted_arr2)\n",
        "print(f\"Time taken: {end - start:.6f} seconds\")\n",
        "# Explanation: All elements are equal, so output remains [1, 1, 1, 1]\n"
      ],
      "metadata": {
        "colab": {
          "base_uri": "https://localhost:8080/"
        },
        "id": "Y0_s3gZLVqJA",
        "outputId": "21c0f988-7a91-4a4b-a112-d727247e300d"
      },
      "execution_count": 7,
      "outputs": [
        {
          "output_type": "stream",
          "name": "stdout",
          "text": [
            "Input: [5, 3, 8, 4, 2]\n",
            "Sorted: [2, 3, 4, 5, 8]\n",
            "Time taken: 0.000099 seconds\n",
            "\n",
            "Input: [1, 1, 1, 1]\n",
            "Sorted: [1, 1, 1, 1]\n",
            "Time taken: 0.000055 seconds\n"
          ]
        }
      ]
    },
    {
      "cell_type": "markdown",
      "source": [
        "---\n",
        "\n",
        "### **📘 Merge Sort**  \n",
        "---  \n",
        "**🔧 How It Works:**  \n",
        "Merge Sort is a recursive algorithm that splits a list into two halves, sorts each half, and then **merges** the sorted halves into a single sorted list. This continues until each sublist has only one element (which is already sorted), and then they are combined in sorted order. It’s very stable and performs consistently well, even on large datasets.\n",
        "\n",
        "**⚙️ Performance:**  \n",
        "- Best case: O(n log n)  \n",
        "- Average case: O(n log n)  \n",
        "- Worst case: O(n log n)  \n",
        "- Space: O(n) (extra space for merging)  \n",
        "---"
      ],
      "metadata": {
        "id": "JQfBfoUeVryL"
      }
    },
    {
      "cell_type": "code",
      "source": [
        "def merge_sort(arr):\n",
        "    if len(arr) <= 1:\n",
        "        return arr\n",
        "\n",
        "    mid = len(arr) // 2\n",
        "    left = merge_sort(arr[:mid])\n",
        "    right = merge_sort(arr[mid:])\n",
        "\n",
        "    return merge(left, right)\n",
        "\n",
        "def merge(left, right):\n",
        "    result = []\n",
        "    i = j = 0\n",
        "\n",
        "    while i < len(left) and j < len(right):\n",
        "        if left[i] <= right[j]:\n",
        "            result.append(left[i])\n",
        "            i += 1\n",
        "        else:\n",
        "            result.append(right[j])\n",
        "            j += 1\n",
        "\n",
        "    result.extend(left[i:])\n",
        "    result.extend(right[j:])\n",
        "    return result\n"
      ],
      "metadata": {
        "id": "3CLBAvJKVp6u"
      },
      "execution_count": 5,
      "outputs": []
    },
    {
      "cell_type": "code",
      "source": [
        "import time\n",
        "\n",
        "# Test Case 1\n",
        "arr1 = [9, 5, 1, 3, 7]\n",
        "start = time.time()\n",
        "sorted_arr1 = merge_sort(arr1)\n",
        "end = time.time()\n",
        "print(\"Input:\", arr1)\n",
        "print(\"Sorted:\", sorted_arr1)\n",
        "print(f\"Time taken: {end - start:.6f} seconds\")\n",
        "# Explanation: List is sorted to [1, 3, 5, 7, 9]\n",
        "\n",
        "# Test Case 2\n",
        "arr2 = [10]\n",
        "start = time.time()\n",
        "sorted_arr2 = merge_sort(arr2)\n",
        "end = time.time()\n",
        "print(\"\\nInput:\", arr2)\n",
        "print(\"Sorted:\", sorted_arr2)\n",
        "print(f\"Time taken: {end - start:.6f} seconds\")\n",
        "# Explanation: Single-element list stays the same: [10]\n"
      ],
      "metadata": {
        "colab": {
          "base_uri": "https://localhost:8080/"
        },
        "id": "b0cmC6FdVpta",
        "outputId": "d16b0ff6-3dea-4402-fe2b-6cd6fa7b0d15"
      },
      "execution_count": 6,
      "outputs": [
        {
          "output_type": "stream",
          "name": "stdout",
          "text": [
            "Input: [9, 5, 1, 3, 7]\n",
            "Sorted: [1, 3, 5, 7, 9]\n",
            "Time taken: 0.000073 seconds\n",
            "\n",
            "Input: [10]\n",
            "Sorted: [10]\n",
            "Time taken: 0.000048 seconds\n"
          ]
        }
      ]
    },
    {
      "cell_type": "markdown",
      "source": [
        "---\n",
        "\n",
        "### **📘 Binary Search**  \n",
        "---  \n",
        "**🔧 How It Works:**  \n",
        "Binary Search finds an element in a **sorted list** by repeatedly dividing the search space in half. It compares the target value to the middle element; if they are not equal, it discards the half where the target cannot be. This continues until the element is found or the list is empty.\n",
        "\n",
        "**⚙️ Performance:**  \n",
        "- Best case: O(1)  \n",
        "- Average case: O(log n)  \n",
        "- Worst case: O(log n)  \n",
        "- Space: O(1) (iterative) or O(log n) (recursive)  \n",
        "---"
      ],
      "metadata": {
        "id": "OKTdZogBVs0O"
      }
    },
    {
      "cell_type": "code",
      "source": [
        "def binary_search(arr, target):\n",
        "    low = 0\n",
        "    high = len(arr) - 1\n",
        "\n",
        "    while low <= high:\n",
        "        mid = (low + high) // 2\n",
        "\n",
        "        if arr[mid] == target:\n",
        "            return mid  # Found the target at index mid\n",
        "        elif arr[mid] < target:\n",
        "            low = mid + 1\n",
        "        else:\n",
        "            high = mid - 1\n",
        "\n",
        "    return -1  # Target not found\n"
      ],
      "metadata": {
        "id": "xi-DEWm3Vpfn"
      },
      "execution_count": 8,
      "outputs": []
    },
    {
      "cell_type": "code",
      "source": [
        "import time\n",
        "\n",
        "# Test Case 1\n",
        "arr1 = [1, 3, 5, 7, 9]\n",
        "target1 = 5\n",
        "start = time.time()\n",
        "result1 = binary_search(arr1, target1)\n",
        "end = time.time()\n",
        "print(\"Input array:\", arr1)\n",
        "print(\"Target:\", target1)\n",
        "print(\"Result (Index):\", result1)\n",
        "print(f\"Time taken: {end - start:.6f} seconds\")\n",
        "# Explanation: 5 is found at index 2\n",
        "\n",
        "# Test Case 2\n",
        "arr2 = [2, 4, 6, 8, 10]\n",
        "target2 = 7\n",
        "start = time.time()\n",
        "result2 = binary_search(arr2, target2)\n",
        "end = time.time()\n",
        "print(\"\\nInput array:\", arr2)\n",
        "print(\"Target:\", target2)\n",
        "print(\"Result (Index):\", result2)\n",
        "print(f\"Time taken: {end - start:.6f} seconds\")\n",
        "# Explanation: 7 is not in the array, so result is -1\n"
      ],
      "metadata": {
        "colab": {
          "base_uri": "https://localhost:8080/"
        },
        "id": "0SVYUUSkVpTU",
        "outputId": "e1a9f9c7-e7df-4ca1-f614-95351a3e4622"
      },
      "execution_count": 9,
      "outputs": [
        {
          "output_type": "stream",
          "name": "stdout",
          "text": [
            "Input array: [1, 3, 5, 7, 9]\n",
            "Target: 5\n",
            "Result (Index): 2\n",
            "Time taken: 0.000060 seconds\n",
            "\n",
            "Input array: [2, 4, 6, 8, 10]\n",
            "Target: 7\n",
            "Result (Index): -1\n",
            "Time taken: 0.000049 seconds\n"
          ]
        }
      ]
    },
    {
      "cell_type": "markdown",
      "source": [
        "## **2. Graph Algorithms**\n",
        "---\n",
        "Dijkstra’s Algorithm – Shortest path in weighted graphs.\n",
        "\n",
        "Depth-First Search (DFS) – Explore as deep as possible.\n",
        "\n",
        "Breadth-First Search (BFS) – Level-order exploration."
      ],
      "metadata": {
        "id": "925NNwj5T6hl"
      }
    },
    {
      "cell_type": "markdown",
      "source": [
        "---\n",
        "\n",
        "### **📘 Dijkstra’s Algorithm**  \n",
        "---  \n",
        "**🔧 How It Works:**  \n",
        "Dijkstra’s Algorithm finds the shortest path from a **starting node** to all other nodes in a graph with **non-negative weights**. It uses a priority queue to always explore the nearest unvisited node, updating the shortest known distances as it progresses, until the shortest paths to all nodes are found.\n",
        "\n",
        "**⚙️ Performance:**  \n",
        "- Best case: O(V + E log V) (with min-heap)  \n",
        "- Average case: O((V + E) log V)  \n",
        "- Worst case: O(V²) (with adjacency matrix)  \n",
        "- Space: O(V) for distances and visited sets  \n",
        "---"
      ],
      "metadata": {
        "id": "-Btxzef7XVxV"
      }
    },
    {
      "cell_type": "code",
      "source": [
        "import heapq\n",
        "\n",
        "def dijkstra(graph, start):\n",
        "    distances = {node: float('inf') for node in graph}\n",
        "    distances[start] = 0\n",
        "\n",
        "    priority_queue = [(0, start)]  # (distance, node)\n",
        "\n",
        "    while priority_queue:\n",
        "        current_dist, current_node = heapq.heappop(priority_queue)\n",
        "\n",
        "        # Skip if we've already found a better path\n",
        "        if current_dist > distances[current_node]:\n",
        "            continue\n",
        "\n",
        "        for neighbor, weight in graph[current_node]:\n",
        "            distance = current_dist + weight\n",
        "\n",
        "            if distance < distances[neighbor]:\n",
        "                distances[neighbor] = distance\n",
        "                heapq.heappush(priority_queue, (distance, neighbor))\n",
        "\n",
        "    return distances\n"
      ],
      "metadata": {
        "id": "SHM1DE9YXVcb"
      },
      "execution_count": 10,
      "outputs": []
    },
    {
      "cell_type": "code",
      "source": [
        "import time\n",
        "\n",
        "# Test Case 1\n",
        "graph1 = {\n",
        "    'A': [('B', 1), ('C', 4)],\n",
        "    'B': [('C', 2), ('D', 5)],\n",
        "    'C': [('D', 1)],\n",
        "    'D': []\n",
        "}\n",
        "start_node1 = 'A'\n",
        "\n",
        "start = time.time()\n",
        "distances1 = dijkstra(graph1, start_node1)\n",
        "end = time.time()\n",
        "\n",
        "print(\"Graph:\", graph1)\n",
        "print(\"Start node:\", start_node1)\n",
        "print(\"Shortest distances:\", distances1)\n",
        "print(f\"Time taken: {end - start:.6f} seconds\")\n",
        "# Explanation: Shortest paths from A to others are computed using edge weights\n",
        "\n",
        "# Test Case 2\n",
        "graph2 = {\n",
        "    0: [(1, 2), (2, 4)],\n",
        "    1: [(2, 1), (3, 7)],\n",
        "    2: [(4, 3)],\n",
        "    3: [(5, 1)],\n",
        "    4: [(3, 2), (5, 5)],\n",
        "    5: []\n",
        "}\n",
        "start_node2 = 0\n",
        "\n",
        "start = time.time()\n",
        "distances2 = dijkstra(graph2, start_node2)\n",
        "end = time.time()\n",
        "\n",
        "print(\"\\nGraph:\", graph2)\n",
        "print(\"Start node:\", start_node2)\n",
        "print(\"Shortest distances:\", distances2)\n",
        "print(f\"Time taken: {end - start:.6f} seconds\")\n",
        "# Explanation: Calculates shortest distances from node 0 to all others\n"
      ],
      "metadata": {
        "colab": {
          "base_uri": "https://localhost:8080/"
        },
        "id": "uNsYVfA4XVOy",
        "outputId": "33e5d919-0c4b-4f82-915f-a12cfedf1aa6"
      },
      "execution_count": 11,
      "outputs": [
        {
          "output_type": "stream",
          "name": "stdout",
          "text": [
            "Graph: {'A': [('B', 1), ('C', 4)], 'B': [('C', 2), ('D', 5)], 'C': [('D', 1)], 'D': []}\n",
            "Start node: A\n",
            "Shortest distances: {'A': 0, 'B': 1, 'C': 3, 'D': 4}\n",
            "Time taken: 0.000092 seconds\n",
            "\n",
            "Graph: {0: [(1, 2), (2, 4)], 1: [(2, 1), (3, 7)], 2: [(4, 3)], 3: [(5, 1)], 4: [(3, 2), (5, 5)], 5: []}\n",
            "Start node: 0\n",
            "Shortest distances: {0: 0, 1: 2, 2: 3, 3: 8, 4: 6, 5: 9}\n",
            "Time taken: 0.000076 seconds\n"
          ]
        }
      ]
    },
    {
      "cell_type": "markdown",
      "source": [
        "---\n",
        "\n",
        "### **📘 Depth-First Search (DFS)**  \n",
        "---  \n",
        "**🔧 How It Works:**  \n",
        "DFS explores a graph by starting at a source node and going **as deep as possible** along each branch before backtracking. It uses a stack (or recursion) to keep track of the path. DFS is useful for tasks like detecting cycles, topological sorting, and connected components.\n",
        "\n",
        "**⚙️ Performance:**  \n",
        "- Best case: O(V + E)  \n",
        "- Average case: O(V + E)  \n",
        "- Worst case: O(V + E)  \n",
        "- Space: O(V) for visited nodes (plus recursion stack)  \n",
        "---"
      ],
      "metadata": {
        "id": "Tqc4h2yuXU7Y"
      }
    },
    {
      "cell_type": "code",
      "source": [
        "def dfs(graph, start, visited=None):\n",
        "    if visited is None:\n",
        "        visited = set()\n",
        "\n",
        "    visited.add(start)\n",
        "\n",
        "    for neighbor in graph[start]:\n",
        "        if neighbor not in visited:\n",
        "            dfs(graph, neighbor, visited)\n",
        "\n",
        "    return visited\n"
      ],
      "metadata": {
        "id": "AoGlYNWUXUqI"
      },
      "execution_count": 1,
      "outputs": []
    },
    {
      "cell_type": "code",
      "source": [
        "import time\n",
        "\n",
        "# Test Case 1\n",
        "graph1 = {\n",
        "    'A': ['B', 'C'],\n",
        "    'B': ['D'],\n",
        "    'C': ['E'],\n",
        "    'D': [],\n",
        "    'E': []\n",
        "}\n",
        "start_node1 = 'A'\n",
        "\n",
        "start = time.time()\n",
        "visited1 = dfs(graph1, start_node1)\n",
        "end = time.time()\n",
        "\n",
        "print(\"Graph:\", graph1)\n",
        "print(\"Start node:\", start_node1)\n",
        "print(\"Visited nodes:\", visited1)\n",
        "print(f\"Time taken: {end - start:.6f} seconds\")\n",
        "# Explanation: DFS visits nodes in depth order: A → B → D → C → E\n",
        "\n",
        "# Test Case 2\n",
        "graph2 = {\n",
        "    1: [2, 3],\n",
        "    2: [4],\n",
        "    3: [],\n",
        "    4: [5],\n",
        "    5: []\n",
        "}\n",
        "start_node2 = 1\n",
        "\n",
        "start = time.time()\n",
        "visited2 = dfs(graph2, start_node2)\n",
        "end = time.time()\n",
        "\n",
        "print(\"\\nGraph:\", graph2)\n",
        "print(\"Start node:\", start_node2)\n",
        "print(\"Visited nodes:\", visited2)\n",
        "print(f\"Time taken: {end - start:.6f} seconds\")\n",
        "# Explanation: DFS visits nodes starting from 1: 1 → 2 → 4 → 5 → 3 (though order may vary)"
      ],
      "metadata": {
        "colab": {
          "base_uri": "https://localhost:8080/"
        },
        "id": "3bief6aPXUd8",
        "outputId": "63b29c97-e9f1-418d-baa6-a9bc36625699"
      },
      "execution_count": 2,
      "outputs": [
        {
          "output_type": "stream",
          "name": "stdout",
          "text": [
            "Graph: {'A': ['B', 'C'], 'B': ['D'], 'C': ['E'], 'D': [], 'E': []}\n",
            "Start node: A\n",
            "Visited nodes: {'B', 'D', 'C', 'A', 'E'}\n",
            "Time taken: 0.000151 seconds\n",
            "\n",
            "Graph: {1: [2, 3], 2: [4], 3: [], 4: [5], 5: []}\n",
            "Start node: 1\n",
            "Visited nodes: {1, 2, 3, 4, 5}\n",
            "Time taken: 0.000089 seconds\n"
          ]
        }
      ]
    },
    {
      "cell_type": "markdown",
      "source": [
        "---\n",
        "\n",
        "### **📘 Breadth-First Search (BFS)**  \n",
        "---  \n",
        "**🔧 How It Works:**  \n",
        "BFS explores a graph **level by level**, starting from a source node. It uses a **queue** to visit all neighboring nodes before moving to the next level. BFS is ideal for finding the shortest path in **unweighted graphs** and exploring all nodes reachable from a starting point.\n",
        "\n",
        "**⚙️ Performance:**  \n",
        "- Best case: O(V + E)  \n",
        "- Average case: O(V + E)  \n",
        "- Worst case: O(V + E)  \n",
        "- Space: O(V) for the queue and visited list  \n",
        "---"
      ],
      "metadata": {
        "id": "RxajAcs_XUMk"
      }
    },
    {
      "cell_type": "code",
      "source": [
        "from collections import deque\n",
        "\n",
        "def bfs(graph, start):\n",
        "    visited = set()\n",
        "    queue = deque([start])\n",
        "\n",
        "    while queue:\n",
        "        node = queue.popleft()\n",
        "        if node not in visited:\n",
        "            visited.add(node)\n",
        "            queue.extend(neighbor for neighbor in graph[node] if neighbor not in visited)\n",
        "\n",
        "    return visited\n"
      ],
      "metadata": {
        "id": "BzSsSnOSXT4u"
      },
      "execution_count": 3,
      "outputs": []
    },
    {
      "cell_type": "code",
      "source": [
        "import time\n",
        "\n",
        "# Test Case 1\n",
        "graph1 = {\n",
        "    'A': ['B', 'C'],\n",
        "    'B': ['D'],\n",
        "    'C': ['E'],\n",
        "    'D': [],\n",
        "    'E': []\n",
        "}\n",
        "start_node1 = 'A'\n",
        "\n",
        "start = time.time()\n",
        "visited1 = bfs(graph1, start_node1)\n",
        "end = time.time()\n",
        "\n",
        "print(\"Graph:\", graph1)\n",
        "print(\"Start node:\", start_node1)\n",
        "print(\"Visited nodes (BFS order):\", visited1)\n",
        "print(f\"Time taken: {end - start:.6f} seconds\")\n",
        "# Explanation: BFS visits A → B → C → D → E (level by level)\n",
        "\n",
        "# Test Case 2\n",
        "graph2 = {\n",
        "    1: [2, 3],\n",
        "    2: [4],\n",
        "    3: [],\n",
        "    4: [5],\n",
        "    5: []\n",
        "}\n",
        "start_node2 = 1\n",
        "\n",
        "start = time.time()\n",
        "visited2 = bfs(graph2, start_node2)\n",
        "end = time.time()\n",
        "\n",
        "print(\"\\nGraph:\", graph2)\n",
        "print(\"Start node:\", start_node2)\n",
        "print(\"Visited nodes (BFS order):\", visited2)\n",
        "print(f\"Time taken: {end - start:.6f} seconds\")\n",
        "# Explanation: BFS visits 1 → 2 → 3 → 4 → 5 in level-order fashion\n"
      ],
      "metadata": {
        "colab": {
          "base_uri": "https://localhost:8080/"
        },
        "id": "3TwS3-woXTsS",
        "outputId": "626c8dd5-5722-475f-ce85-524d61fd74dc"
      },
      "execution_count": 4,
      "outputs": [
        {
          "output_type": "stream",
          "name": "stdout",
          "text": [
            "Graph: {'A': ['B', 'C'], 'B': ['D'], 'C': ['E'], 'D': [], 'E': []}\n",
            "Start node: A\n",
            "Visited nodes (BFS order): {'B', 'D', 'C', 'A', 'E'}\n",
            "Time taken: 0.000067 seconds\n",
            "\n",
            "Graph: {1: [2, 3], 2: [4], 3: [], 4: [5], 5: []}\n",
            "Start node: 1\n",
            "Visited nodes (BFS order): {1, 2, 3, 4, 5}\n",
            "Time taken: 0.000054 seconds\n"
          ]
        }
      ]
    },
    {
      "cell_type": "markdown",
      "source": [
        "## **3. Dynamic Programming**\n",
        "---\n",
        "Longest Common Subsequence (LCS) – Compare sequences efficiently.\n",
        "\n",
        "0/1 Knapsack – Optimize value under weight constraints.\n",
        "\n",
        "Fibonacci Sequence – Classic example of overlapping subproblems."
      ],
      "metadata": {
        "id": "KG5SYKlWUDy3"
      }
    },
    {
      "cell_type": "markdown",
      "source": [
        "### 📘 Longest Common Subsequence (LCS)  \n",
        "---  \n",
        "**🔧 How It Works:**  \n",
        "LCS finds the longest sequence that appears in the **same order** (not necessarily consecutively) in two strings. It uses **dynamic programming** to build a table of subproblem results, where each entry represents the LCS length for prefixes of the two strings. It builds the solution bottom-up by comparing characters and storing the maximum result so far.\n",
        "\n",
        "**⚙️ Performance:**  \n",
        "- Best case: O(m × n)  \n",
        "- Average case: O(m × n)  \n",
        "- Worst case: O(m × n)  \n",
        "- Space: O(m × n) (can be optimized to O(min(m, n)) with rolling arrays)  \n",
        "---\n"
      ],
      "metadata": {
        "id": "bJuzQw8yd2_f"
      }
    },
    {
      "cell_type": "code",
      "source": [
        "def lcs(s1, s2):\n",
        "    m, n = len(s1), len(s2)\n",
        "    dp = [[0] * (n + 1) for _ in range(m + 1)]\n",
        "\n",
        "    # Fill the DP table\n",
        "    for i in range(m):\n",
        "        for j in range(n):\n",
        "            if s1[i] == s2[j]:\n",
        "                dp[i + 1][j + 1] = dp[i][j] + 1\n",
        "            else:\n",
        "                dp[i + 1][j + 1] = max(dp[i][j + 1], dp[i + 1][j])\n",
        "\n",
        "    return dp[m][n]\n"
      ],
      "metadata": {
        "id": "GOs5vKpid2vR"
      },
      "execution_count": 5,
      "outputs": []
    },
    {
      "cell_type": "code",
      "source": [
        "import time\n",
        "\n",
        "# Test Case 1\n",
        "s1_1 = \"ABCBDAB\"\n",
        "s2_1 = \"BDCAB\"\n",
        "start = time.time()\n",
        "length1 = lcs(s1_1, s2_1)\n",
        "end = time.time()\n",
        "print(\"String 1:\", s1_1)\n",
        "print(\"String 2:\", s2_1)\n",
        "print(\"LCS length:\", length1)\n",
        "print(f\"Time taken: {end - start:.6f} seconds\")\n",
        "# Explanation: LCS is \"BCAB\" or \"BDAB\", both length 4\n",
        "\n",
        "# Test Case 2\n",
        "s1_2 = \"AGGTAB\"\n",
        "s2_2 = \"GXTXAYB\"\n",
        "start = time.time()\n",
        "length2 = lcs(s1_2, s2_2)\n",
        "end = time.time()\n",
        "print(\"\\nString 1:\", s1_2)\n",
        "print(\"String 2:\", s2_2)\n",
        "print(\"LCS length:\", length2)\n",
        "print(f\"Time taken: {end - start:.6f} seconds\")\n",
        "# Explanation: LCS is \"GTAB\", length 4\n"
      ],
      "metadata": {
        "colab": {
          "base_uri": "https://localhost:8080/"
        },
        "id": "4IuiPsF0d2h6",
        "outputId": "01479d91-c48e-40c1-9656-c17537093a3e"
      },
      "execution_count": 6,
      "outputs": [
        {
          "output_type": "stream",
          "name": "stdout",
          "text": [
            "String 1: ABCBDAB\n",
            "String 2: BDCAB\n",
            "LCS length: 4\n",
            "Time taken: 0.000086 seconds\n",
            "\n",
            "String 1: AGGTAB\n",
            "String 2: GXTXAYB\n",
            "LCS length: 4\n",
            "Time taken: 0.000084 seconds\n"
          ]
        }
      ]
    },
    {
      "cell_type": "markdown",
      "source": [
        "---\n",
        "### 📘 0/1 Knapsack Problem  \n",
        "---  \n",
        "**🔧 How It Works:**  \n",
        "The 0/1 Knapsack Problem aims to select a subset of items with given **weights** and **values** to **maximize the total value** without exceeding the weight limit of the knapsack. Each item can either be included or excluded (0 or 1). It uses **dynamic programming** to build a table where each entry represents the best value for a given weight capacity and subset of items.\n",
        "\n",
        "**⚙️ Performance:**  \n",
        "- Best case: O(n × W)  \n",
        "- Average case: O(n × W)  \n",
        "- Worst case: O(n × W)  \n",
        "- Space: O(n × W) (can be optimized to O(W) with 1D array)  \n"
      ],
      "metadata": {
        "id": "sDqv-9zKd2IX"
      }
    },
    {
      "cell_type": "code",
      "source": [
        "# ✅ Python Implementation\n",
        "\n",
        "def knapsack_01(weights, values, capacity):\n",
        "    n = len(weights)\n",
        "    dp = [[0] * (capacity + 1) for _ in range(n + 1)]\n",
        "\n",
        "    for i in range(1, n + 1):\n",
        "        for w in range(capacity + 1):\n",
        "            if weights[i - 1] <= w:\n",
        "                dp[i][w] = max(\n",
        "                    dp[i - 1][w],  # exclude item\n",
        "                    dp[i - 1][w - weights[i - 1]] + values[i - 1]  # include item\n",
        "                )\n",
        "            else:\n",
        "                dp[i][w] = dp[i - 1][w]\n",
        "\n",
        "    return dp[n][capacity]\n"
      ],
      "metadata": {
        "id": "LLFa-vV9d13L"
      },
      "execution_count": 7,
      "outputs": []
    },
    {
      "cell_type": "code",
      "source": [
        "# 🧪 Test Cases with Timer and Explanation\n",
        "\n",
        "import time\n",
        "\n",
        "# Test Case 1\n",
        "weights1 = [1, 2, 3]\n",
        "values1 = [10, 15, 40]\n",
        "capacity1 = 6\n",
        "\n",
        "start = time.time()\n",
        "max_value1 = knapsack_01(weights1, values1, capacity1)\n",
        "end = time.time()\n",
        "print(\"Weights:\", weights1)\n",
        "print(\"Values:\", values1)\n",
        "print(\"Capacity:\", capacity1)\n",
        "print(\"Maximum value:\", max_value1)\n",
        "print(f\"Time taken: {end - start:.6f} seconds\")\n",
        "# Explanation: Optimal to take all items; total value = 65\n",
        "\n",
        "# Test Case 2\n",
        "weights2 = [2, 3, 4, 5]\n",
        "values2 = [3, 4, 5, 6]\n",
        "capacity2 = 5\n",
        "\n",
        "start = time.time()\n",
        "max_value2 = knapsack_01(weights2, values2, capacity2)\n",
        "end = time.time()\n",
        "print(\"\\nWeights:\", weights2)\n",
        "print(\"Values:\", values2)\n",
        "print(\"Capacity:\", capacity2)\n",
        "print(\"Maximum value:\", max_value2)\n",
        "print(f\"Time taken: {end - start:.6f} seconds\")\n",
        "# Explanation: Best to take item with weight 2 and value 3, and item with weight 3 and value 4 → total value = 7"
      ],
      "metadata": {
        "colab": {
          "base_uri": "https://localhost:8080/"
        },
        "id": "AF-j0J8Gd1pr",
        "outputId": "d837d5c9-e880-42a1-c077-84035475057b"
      },
      "execution_count": 8,
      "outputs": [
        {
          "output_type": "stream",
          "name": "stdout",
          "text": [
            "Weights: [1, 2, 3]\n",
            "Values: [10, 15, 40]\n",
            "Capacity: 6\n",
            "Maximum value: 65\n",
            "Time taken: 0.000074 seconds\n",
            "\n",
            "Weights: [2, 3, 4, 5]\n",
            "Values: [3, 4, 5, 6]\n",
            "Capacity: 5\n",
            "Maximum value: 7\n",
            "Time taken: 0.000065 seconds\n"
          ]
        }
      ]
    },
    {
      "cell_type": "markdown",
      "source": [
        "---\n",
        "\n",
        "### **📘 Fibonacci Sequence (DP Approach)**  \n",
        "---  \n",
        "**🔧 How It Works:**  \n",
        "The Fibonacci Sequence is a series where each number is the **sum of the two preceding ones**. Using **dynamic programming**, we avoid repeated calculations by storing already computed values (memoization or tabulation), making the solution efficient even for large inputs.\n",
        "\n",
        "**⚙️ Performance:**  \n",
        "- Best case: O(n)  \n",
        "- Average case: O(n)  \n",
        "- Worst case: O(n)  \n",
        "- Space: O(n) (O(1) with space optimization)  \n",
        "---"
      ],
      "metadata": {
        "id": "oggvmrusXp9X"
      }
    },
    {
      "cell_type": "code",
      "source": [
        "# ✅ Python Implementation\n",
        "\n",
        "def fibonacci_dp(n):\n",
        "    if n <= 1:\n",
        "        return n\n",
        "\n",
        "    fib = [0] * (n + 1)\n",
        "    fib[1] = 1\n",
        "\n",
        "    for i in range(2, n + 1):\n",
        "        fib[i] = fib[i - 1] + fib[i - 2]\n",
        "\n",
        "    return fib[n]\n"
      ],
      "metadata": {
        "id": "di9DDvQ4Xrek"
      },
      "execution_count": 9,
      "outputs": []
    },
    {
      "cell_type": "code",
      "source": [
        "# 🧪 Test Cases with Timer and Explanation\n",
        "\n",
        "import time\n",
        "\n",
        "# Test Case 1\n",
        "n1 = 10\n",
        "start = time.time()\n",
        "result1 = fibonacci_dp(n1)\n",
        "end = time.time()\n",
        "print(\"Fibonacci number at position\", n1, \"is:\", result1)\n",
        "print(f\"Time taken: {end - start:.6f} seconds\")\n",
        "# Explanation: The 10th Fibonacci number is 55\n",
        "\n",
        "# Test Case 2\n",
        "n2 = 25\n",
        "start = time.time()\n",
        "result2 = fibonacci_dp(n2)\n",
        "end = time.time()\n",
        "print(\"\\nFibonacci number at position\", n2, \"is:\", result2)\n",
        "print(f\"Time taken: {end - start:.6f} seconds\")\n",
        "# Explanation: The 25th Fibonacci number is 75025"
      ],
      "metadata": {
        "colab": {
          "base_uri": "https://localhost:8080/"
        },
        "id": "Ec7NCooGXrRN",
        "outputId": "1701331b-63d8-42f9-f619-4a3488cf0166"
      },
      "execution_count": 10,
      "outputs": [
        {
          "output_type": "stream",
          "name": "stdout",
          "text": [
            "Fibonacci number at position 10 is: 55\n",
            "Time taken: 0.000113 seconds\n",
            "\n",
            "Fibonacci number at position 25 is: 75025\n",
            "Time taken: 0.000051 seconds\n"
          ]
        }
      ]
    },
    {
      "cell_type": "markdown",
      "source": [
        "## **4. Machine Learning**\n",
        "---\n",
        "Linear Regression – Predict continuous values.\n",
        "\n",
        "Logistic Regression – Classification of binary outcomes.\n",
        "\n",
        "K-Means Clustering – Partition data into clusters."
      ],
      "metadata": {
        "id": "W3oVR4mDUQ7T"
      }
    },
    {
      "cell_type": "markdown",
      "source": [
        "---\n",
        "### 📘 Linear Regression (Closed-Form Solution)  \n",
        "---  \n",
        "**🔧 How It Works:**  \n",
        "Linear Regression predicts a **continuous value** by fitting a straight line to data points. Using the **Normal Equation**, we compute the best-fit line by directly solving the equation:  \n",
        "**θ = (XᵗX)⁻¹Xᵗy**, where X is the feature matrix and y is the target vector. This method avoids iteration and gives an exact solution for small datasets.\n",
        "\n",
        "**⚙️ Performance:**  \n",
        "- Best case: O(n²)  \n",
        "- Average case: O(n² × m) (n = samples, m = features)  \n",
        "- Worst case: O(n³) (due to matrix inversion)  \n",
        "- Space: O(n × m)  \n",
        "\n"
      ],
      "metadata": {
        "id": "BmkRcaW0fwQa"
      }
    },
    {
      "cell_type": "code",
      "source": [
        "# ✅ Python Implementation\n",
        "\n",
        "import numpy as np\n",
        "\n",
        "def linear_regression_normal_eq(X, y):\n",
        "    # Add bias term (intercept)\n",
        "    X_b = np.c_[np.ones((X.shape[0], 1)), X]\n",
        "    # Closed-form solution: θ = (XᵗX)^(-1) Xᵗy\n",
        "    theta = np.linalg.inv(X_b.T.dot(X_b)).dot(X_b.T).dot(y)\n",
        "    return theta  # Returns [intercept, slope(s)]\n"
      ],
      "metadata": {
        "id": "enqWTGcFfwCD"
      },
      "execution_count": 11,
      "outputs": []
    },
    {
      "cell_type": "code",
      "source": [
        "# 🧪 Test Cases with Timer and Explanation\n",
        "\n",
        "import time\n",
        "\n",
        "# Test Case 1: Simple 1D data\n",
        "X1 = np.array([[1], [2], [4], [3]])\n",
        "y1 = np.array([1, 3, 7, 5])\n",
        "\n",
        "start = time.time()\n",
        "theta1 = linear_regression_normal_eq(X1, y1)\n",
        "end = time.time()\n",
        "\n",
        "print(\"Test Case 1 Coefficients:\", theta1)\n",
        "print(f\"Time taken: {end - start:.6f} seconds\")\n",
        "# Explanation: Should fit a line close to y ≈ 2x - 1\n",
        "\n",
        "# Test Case 2: 2D feature data\n",
        "X2 = np.array([[1, 2], [2, 3], [4, 6], [3, 5]])\n",
        "y2 = np.array([2, 4, 8, 6])\n",
        "\n",
        "start = time.time()\n",
        "theta2 = linear_regression_normal_eq(X2, y2)\n",
        "end = time.time()\n",
        "\n",
        "print(\"\\nTest Case 2 Coefficients:\", theta2)\n",
        "print(f\"Time taken: {end - start:.6f} seconds\")\n",
        "# Explanation: Multivariate regression to estimate weights for two input features"
      ],
      "metadata": {
        "colab": {
          "base_uri": "https://localhost:8080/"
        },
        "id": "ESfy7ydyfv1J",
        "outputId": "33fec9af-1e54-4c20-8b61-ef4fce231731"
      },
      "execution_count": 12,
      "outputs": [
        {
          "output_type": "stream",
          "name": "stdout",
          "text": [
            "Test Case 1 Coefficients: [-1.  2.]\n",
            "Time taken: 0.011103 seconds\n",
            "\n",
            "Test Case 2 Coefficients: [4.26325641e-14 2.00000000e+00 0.00000000e+00]\n",
            "Time taken: 0.000365 seconds\n"
          ]
        }
      ]
    },
    {
      "cell_type": "markdown",
      "source": [
        "---\n",
        "### 📘 Logistic Regression  \n",
        "---  \n",
        "**🔧 How It Works:**  \n",
        "Logistic Regression is a **classification algorithm** used to predict binary outcomes (e.g., yes/no, 0/1). It models the **probability** that an input belongs to a certain class using the **sigmoid function**, which maps any real value to the range [0, 1]. Model parameters (weights) are learned using **gradient descent** to minimize the log loss (cross-entropy).\n",
        "\n",
        "**⚙️ Performance:**  \n",
        "- Best case: O(n × m)  \n",
        "- Average case: O(n × m × k) (k = iterations)  \n",
        "- Worst case: O(n × m × k)  \n",
        "- Space: O(m) (m = number of features)  \n"
      ],
      "metadata": {
        "id": "4Y-oC5-efvh2"
      }
    },
    {
      "cell_type": "code",
      "source": [
        "# ✅ Python Implementation\n",
        "\n",
        "import numpy as np\n",
        "\n",
        "def sigmoid(z):\n",
        "    return 1 / (1 + np.exp(-z))\n",
        "\n",
        "def logistic_regression(X, y, lr=0.01, epochs=1000):\n",
        "    m, n = X.shape\n",
        "    X_b = np.c_[np.ones((m, 1)), X]  # add bias term\n",
        "    theta = np.zeros(n + 1)\n",
        "\n",
        "    for _ in range(epochs):\n",
        "        z = X_b.dot(theta)\n",
        "        predictions = sigmoid(z)\n",
        "        gradient = (1 / m) * X_b.T.dot(predictions - y)\n",
        "        theta -= lr * gradient\n",
        "\n",
        "    return theta\n"
      ],
      "metadata": {
        "id": "gN0Z7ULEfvST"
      },
      "execution_count": null,
      "outputs": []
    },
    {
      "cell_type": "code",
      "source": [
        "# 🧪 Test Cases with Timer and Explanation\n",
        "\n",
        "import time\n",
        "\n",
        "# Test Case 1: Simple OR logic\n",
        "X1 = np.array([[0, 0], [0, 1], [1, 0], [1, 1]])\n",
        "y1 = np.array([0, 1, 1, 1])\n",
        "\n",
        "start = time.time()\n",
        "theta1 = logistic_regression(X1, y1, lr=0.1, epochs=1000)\n",
        "end = time.time()\n",
        "\n",
        "print(\"Test Case 1 Coefficients:\", theta1)\n",
        "print(f\"Time taken: {end - start:.6f} seconds\")\n",
        "# Explanation: Should learn to classify the OR function\n",
        "\n",
        "# Test Case 2: Linear separation\n",
        "X2 = np.array([[1], [2], [3], [4]])\n",
        "y2 = np.array([0, 0, 1, 1])\n",
        "\n",
        "start = time.time()\n",
        "theta2 = logistic_regression(X2, y2, lr=0.1, epochs=1000)\n",
        "end = time.time()\n",
        "\n",
        "print(\"\\nTest Case 2 Coefficients:\", theta2)\n",
        "print(f\"Time taken: {end - start:.6f} seconds\")\n",
        "# Explanation: Should learn a sigmoid that separates around x=2.5\n"
      ],
      "metadata": {
        "id": "67MldRMJfvG_"
      },
      "execution_count": null,
      "outputs": []
    },
    {
      "cell_type": "markdown",
      "source": [
        "---\n",
        "### 📘 K-Means Clustering  \n",
        "---  \n",
        "**🔧 How It Works:**  \n",
        "K-Means is an **unsupervised learning** algorithm used to group data into **k clusters**. It starts by initializing k random centroids, then repeatedly performs two steps:  \n",
        "1. **Assign** each data point to the nearest centroid.  \n",
        "2. **Update** centroids as the mean of points assigned to each cluster.  \n",
        "The process continues until centroids stop changing or a maximum number of iterations is reached.\n",
        "\n",
        "**⚙️ Performance:**  \n",
        "- Best case: O(n × k × i)  \n",
        "- Average case: O(n × k × i) (n = samples, k = clusters, i = iterations)  \n",
        "- Worst case: O(n × k × i)  \n",
        "- Space: O(n + k)  \n"
      ],
      "metadata": {
        "id": "m7yPpNU8fuy5"
      }
    },
    {
      "cell_type": "code",
      "source": [
        "# ✅ Python Implementation\n",
        "\n",
        "import numpy as np\n",
        "\n",
        "def kmeans(X, k, max_iters=100):\n",
        "    n_samples, _ = X.shape\n",
        "    rng = np.random.default_rng(seed=42)\n",
        "    centroids = X[rng.choice(n_samples, k, replace=False)]\n",
        "\n",
        "    for _ in range(max_iters):\n",
        "        # Assign each point to the nearest centroid\n",
        "        distances = np.linalg.norm(X[:, np.newaxis] - centroids, axis=2)\n",
        "        clusters = np.argmin(distances, axis=1)\n",
        "\n",
        "        # Update centroids\n",
        "        new_centroids = np.array([X[clusters == j].mean(axis=0) for j in range(k)])\n",
        "\n",
        "        # Check for convergence\n",
        "        if np.allclose(centroids, new_centroids):\n",
        "            break\n",
        "        centroids = new_centroids\n",
        "\n",
        "    return centroids, clusters\n"
      ],
      "metadata": {
        "id": "09FEhq47YAsi"
      },
      "execution_count": 13,
      "outputs": []
    },
    {
      "cell_type": "code",
      "source": [
        "# 🧪 Test Cases with Timer and Explanation\n",
        "\n",
        "import time\n",
        "\n",
        "# Test Case 1: Simple 2D points\n",
        "X1 = np.array([[1, 2], [1, 4], [1, 0],\n",
        "               [10, 2], [10, 4], [10, 0]])\n",
        "k1 = 2\n",
        "\n",
        "start = time.time()\n",
        "centroids1, labels1 = kmeans(X1, k1)\n",
        "end = time.time()\n",
        "\n",
        "print(\"Test Case 1 - Centroids:\\n\", centroids1)\n",
        "print(\"Cluster Labels:\", labels1)\n",
        "print(f\"Time taken: {end - start:.6f} seconds\")\n",
        "# Explanation: Should separate into two clusters around x ≈ 1 and x ≈ 10\n",
        "\n",
        "# Test Case 2: 1D clustering\n",
        "X2 = np.array([[2], [4], [10], [12], [3], [20]])\n",
        "k2 = 3\n",
        "\n",
        "start = time.time()\n",
        "centroids2, labels2 = kmeans(X2, k2)\n",
        "end = time.time()\n",
        "\n",
        "print(\"\\nTest Case 2 - Centroids:\\n\", centroids2)\n",
        "print(\"Cluster Labels:\", labels2)\n",
        "print(f\"Time taken: {end - start:.6f} seconds\")\n",
        "# Explanation: Clusters should form around [2–4], [10–12], and [20]"
      ],
      "metadata": {
        "colab": {
          "base_uri": "https://localhost:8080/"
        },
        "id": "oI9zur56YAhR",
        "outputId": "3cbe224c-e74e-4bed-98c3-623fe20ec285"
      },
      "execution_count": 14,
      "outputs": [
        {
          "output_type": "stream",
          "name": "stdout",
          "text": [
            "Test Case 1 - Centroids:\n",
            " [[ 1.  2.]\n",
            " [10.  2.]]\n",
            "Cluster Labels: [0 0 0 1 1 1]\n",
            "Time taken: 0.026725 seconds\n",
            "\n",
            "Test Case 2 - Centroids:\n",
            " [[20.]\n",
            " [ 3.]\n",
            " [11.]]\n",
            "Cluster Labels: [1 1 2 2 1 0]\n",
            "Time taken: 0.000931 seconds\n"
          ]
        }
      ]
    },
    {
      "cell_type": "markdown",
      "source": [
        "## **5. String Algorithms**\n",
        "---\n",
        "Rabin-Karp Algorithm – Pattern searching with hashing.\n",
        "\n",
        "KMP (Knuth-Morris-Pratt) – Efficient string matching.\n",
        "\n",
        "Edit Distance (Levenshtein Distance) – Measure difference between strings."
      ],
      "metadata": {
        "id": "C-or1kZ6UmyA"
      }
    },
    {
      "cell_type": "markdown",
      "source": [
        "---\n",
        "\n",
        "### **📘 Rabin-Karp Algorithm**  \n",
        "---  \n",
        "**🔧 How It Works:**  \n",
        "Rabin-Karp is a **string searching** algorithm that uses **hashing** to find a pattern in a text. It computes a hash for the pattern and for each substring of the same length in the text, comparing hashes first (fast) and only checking characters if the hashes match (to avoid collisions).\n",
        "\n",
        "**⚙️ Performance:**  \n",
        "- Best case: O(n + m)  \n",
        "- Average case: O(n + m)  \n",
        "- Worst case: O(n × m) (many hash collisions)  \n",
        "- Space: O(1) (excluding input/output)  \n",
        "---"
      ],
      "metadata": {
        "id": "mHyBJJfhYUto"
      }
    },
    {
      "cell_type": "code",
      "source": [
        "# ✅ Python Implementation\n",
        "\n",
        "def rabin_karp(text, pattern, base=256, prime=101):\n",
        "    n, m = len(text), len(pattern)\n",
        "    hpattern = 0\n",
        "    htext = 0\n",
        "    h = 1\n",
        "\n",
        "    # Precompute h = (base^(m-1)) % prime\n",
        "    for _ in range(m - 1):\n",
        "        h = (h * base) % prime\n",
        "\n",
        "    # Compute initial hash values\n",
        "    for i in range(m):\n",
        "        hpattern = (base * hpattern + ord(pattern[i])) % prime\n",
        "        htext = (base * htext + ord(text[i])) % prime\n",
        "\n",
        "    matches = []\n",
        "    for i in range(n - m + 1):\n",
        "        if hpattern == htext:\n",
        "            if text[i:i + m] == pattern:\n",
        "                matches.append(i)\n",
        "\n",
        "        if i < n - m:\n",
        "            htext = (base * (htext - ord(text[i]) * h) + ord(text[i + m])) % prime\n",
        "            if htext < 0:\n",
        "                htext += prime\n",
        "\n",
        "    return matches"
      ],
      "metadata": {
        "id": "MrcVpc_yYUel"
      },
      "execution_count": 17,
      "outputs": []
    },
    {
      "cell_type": "code",
      "source": [
        "# 🧪 Test Cases with Timer and Explanation\n",
        "\n",
        "import time\n",
        "\n",
        "# Test Case 1\n",
        "text1 = \"abracadabra\"\n",
        "pattern1 = \"abra\"\n",
        "\n",
        "start = time.time()\n",
        "result1 = rabin_karp(text1, pattern1)\n",
        "end = time.time()\n",
        "\n",
        "print(\"Text:\", text1)\n",
        "print(\"Pattern:\", pattern1)\n",
        "print(\"Match positions:\", result1)\n",
        "print(f\"Time taken: {end - start:.6f} seconds\")\n",
        "# Explanation: \"abra\" appears at positions 0 and 7\n",
        "\n",
        "# Test Case 2\n",
        "text2 = \"aaaaaa\"\n",
        "pattern2 = \"aaa\"\n",
        "\n",
        "start = time.time()\n",
        "result2 = rabin_karp(text2, pattern2)\n",
        "end = time.time()\n",
        "\n",
        "print(\"\\nText:\", text2)\n",
        "print(\"Pattern:\", pattern2)\n",
        "print(\"Match positions:\", result2)\n",
        "print(f\"Time taken: {end - start:.6f} seconds\")\n",
        "# Explanation: \"aaa\" appears at positions 0, 1, 2, and 3 (overlapping)\n"
      ],
      "metadata": {
        "colab": {
          "base_uri": "https://localhost:8080/"
        },
        "id": "hrMw3NzZYUSo",
        "outputId": "b1f4a82b-0872-4be5-be7c-469e85ae95a6"
      },
      "execution_count": 18,
      "outputs": [
        {
          "output_type": "stream",
          "name": "stdout",
          "text": [
            "Text: abracadabra\n",
            "Pattern: abra\n",
            "Match positions: [0, 7]\n",
            "Time taken: 0.000068 seconds\n",
            "\n",
            "Text: aaaaaa\n",
            "Pattern: aaa\n",
            "Match positions: [0, 1, 2, 3]\n",
            "Time taken: 0.000057 seconds\n"
          ]
        }
      ]
    },
    {
      "cell_type": "markdown",
      "source": [
        "---\n",
        "\n",
        "### **📘 Knuth-Morris-Pratt (KMP) Algorithm**  \n",
        "---  \n",
        "**🔧 How It Works:**  \n",
        "KMP is a **pattern matching** algorithm that avoids redundant comparisons by preprocessing the pattern into a **partial match table** (also called the LPS array). This table tells the algorithm how far to shift the pattern upon a mismatch, allowing it to skip unnecessary checks.\n",
        "\n",
        "**⚙️ Performance:**  \n",
        "- Best case: O(n)  \n",
        "- Average case: O(n)  \n",
        "- Worst case: O(n) (n = length of text)  \n",
        "- Space: O(m) (m = length of pattern for LPS array)  \n",
        "---"
      ],
      "metadata": {
        "id": "QoUvCTYTYUDx"
      }
    },
    {
      "cell_type": "code",
      "source": [
        "# ✅ Python Implementation\n",
        "\n",
        "def compute_lps(pattern):\n",
        "    lps = [0] * len(pattern)\n",
        "    length = 0  # length of the previous longest prefix suffix\n",
        "\n",
        "    i = 1\n",
        "    while i < len(pattern):\n",
        "        if pattern[i] == pattern[length]:\n",
        "            length += 1\n",
        "            lps[i] = length\n",
        "            i += 1\n",
        "        else:\n",
        "            if length != 0:\n",
        "                length = lps[length - 1]\n",
        "            else:\n",
        "                lps[i] = 0\n",
        "                i += 1\n",
        "    return lps\n",
        "\n",
        "def kmp_search(text, pattern):\n",
        "    n, m = len(text), len(pattern)\n",
        "    lps = compute_lps(pattern)\n",
        "    i = j = 0\n",
        "    matches = []\n",
        "\n",
        "    while i < n:\n",
        "        if text[i] == pattern[j]:\n",
        "            i += 1\n",
        "            j += 1\n",
        "        if j == m:\n",
        "            matches.append(i - j)\n",
        "            j = lps[j - 1]\n",
        "        elif i < n and text[i] != pattern[j]:\n",
        "            if j != 0:\n",
        "                j = lps[j - 1]\n",
        "            else:\n",
        "                i += 1\n",
        "\n",
        "    return matches\n"
      ],
      "metadata": {
        "id": "wBvDA0qrYT07"
      },
      "execution_count": 19,
      "outputs": []
    },
    {
      "cell_type": "code",
      "source": [
        "# 🧪 Test Cases with Timer and Explanation\n",
        "\n",
        "import time\n",
        "\n",
        "# Test Case 1\n",
        "text1 = \"abxabcabcaby\"\n",
        "pattern1 = \"abcaby\"\n",
        "\n",
        "start = time.time()\n",
        "result1 = kmp_search(text1, pattern1)\n",
        "end = time.time()\n",
        "\n",
        "print(\"Text:\", text1)\n",
        "print(\"Pattern:\", pattern1)\n",
        "print(\"Match positions:\", result1)\n",
        "print(f\"Time taken: {end - start:.6f} seconds\")\n",
        "# Explanation: Pattern \"abcaby\" starts at position 6\n",
        "\n",
        "# Test Case 2\n",
        "text2 = \"aaaaabaaaaab\"\n",
        "pattern2 = \"aaaaab\"\n",
        "\n",
        "start = time.time()\n",
        "result2 = kmp_search(text2, pattern2)\n",
        "end = time.time()\n",
        "\n",
        "print(\"\\nText:\", text2)\n",
        "print(\"Pattern:\", pattern2)\n",
        "print(\"Match positions:\", result2)\n",
        "print(f\"Time taken: {end - start:.6f} seconds\")\n",
        "# Explanation: Pattern \"aaaaab\" matches at positions 0 and 6\n"
      ],
      "metadata": {
        "id": "Yl-KZrwnYToc"
      },
      "execution_count": null,
      "outputs": []
    },
    {
      "cell_type": "markdown",
      "source": [
        "---\n",
        "\n",
        "### **📘 Edit Distance (Levenshtein Distance)**  \n",
        "---  \n",
        "**🔧 How It Works:**  \n",
        "Edit Distance measures how many **insertions, deletions, or substitutions** are needed to convert one string into another. It uses **dynamic programming** to build a matrix where each cell represents the minimum number of edits required for substrings up to that point.\n",
        "\n",
        "**⚙️ Performance:**  \n",
        "- Best case: O(m × n)  \n",
        "- Average case: O(m × n)  \n",
        "- Worst case: O(m × n) (m and n are string lengths)  \n",
        "- Space: O(m × n) (can be optimized to O(min(m, n)))  \n",
        "---"
      ],
      "metadata": {
        "id": "GBoXzazdYTZn"
      }
    },
    {
      "cell_type": "code",
      "source": [
        "# ✅ Python Implementation\n",
        "\n",
        "def edit_distance(s1, s2):\n",
        "    m, n = len(s1), len(s2)\n",
        "    dp = [[0] * (n + 1) for _ in range(m + 1)]\n",
        "\n",
        "    for i in range(m + 1):\n",
        "        for j in range(n + 1):\n",
        "            if i == 0:\n",
        "                dp[i][j] = j  # insert all characters of s2\n",
        "            elif j == 0:\n",
        "                dp[i][j] = i  # remove all characters of s1\n",
        "            elif s1[i - 1] == s2[j - 1]:\n",
        "                dp[i][j] = dp[i - 1][j - 1]  # characters match\n",
        "            else:\n",
        "                dp[i][j] = 1 + min(\n",
        "                    dp[i - 1][j],    # delete\n",
        "                    dp[i][j - 1],    # insert\n",
        "                    dp[i - 1][j - 1] # substitute\n",
        "                )\n",
        "    return dp[m][n]\n"
      ],
      "metadata": {
        "id": "ipMeIP86YTLw"
      },
      "execution_count": 20,
      "outputs": []
    },
    {
      "cell_type": "code",
      "source": [
        "# 🧪 Test Cases with Timer and Explanation\n",
        "\n",
        "import time\n",
        "\n",
        "# Test Case 1\n",
        "s1_1 = \"kitten\"\n",
        "s2_1 = \"sitting\"\n",
        "\n",
        "start = time.time()\n",
        "dist1 = edit_distance(s1_1, s2_1)\n",
        "end = time.time()\n",
        "\n",
        "print(\"String 1:\", s1_1)\n",
        "print(\"String 2:\", s2_1)\n",
        "print(\"Edit distance:\", dist1)\n",
        "print(f\"Time taken: {end - start:.6f} seconds\")\n",
        "# Explanation: Minimum operations = 3 (kitten → sitten → sittin → sitting)\n",
        "\n",
        "# Test Case 2\n",
        "s1_2 = \"flaw\"\n",
        "s2_2 = \"lawn\"\n",
        "\n",
        "start = time.time()\n",
        "dist2 = edit_distance(s1_2, s2_2)\n",
        "end = time.time()\n",
        "\n",
        "print(\"\\nString 1:\", s1_2)\n",
        "print(\"String 2:\", s2_2)\n",
        "print(\"Edit distance:\", dist2)\n",
        "print(f\"Time taken: {end - start:.6f} seconds\")\n",
        "# Explanation: Minimum operations = 2 (flaw → law → lawn)\n"
      ],
      "metadata": {
        "colab": {
          "base_uri": "https://localhost:8080/"
        },
        "id": "xlJRB8NJYS_3",
        "outputId": "cc237674-e13e-4d01-c14b-10ea7306c895"
      },
      "execution_count": 21,
      "outputs": [
        {
          "output_type": "stream",
          "name": "stdout",
          "text": [
            "String 1: kitten\n",
            "String 2: sitting\n",
            "Edit distance: 3\n",
            "Time taken: 0.000133 seconds\n",
            "\n",
            "String 1: flaw\n",
            "String 2: lawn\n",
            "Edit distance: 2\n",
            "Time taken: 0.000101 seconds\n"
          ]
        }
      ]
    },
    {
      "cell_type": "markdown",
      "source": [
        "## **6. Tree Algorithms**\n",
        "---\n",
        "Binary Tree Traversals (Inorder, Preorder, Postorder) – Navigate tree structures.\n",
        "\n",
        "Lowest Common Ancestor (LCA) – Find shared parent node.\n",
        "\n",
        "Trie Insertion and Search – Efficient prefix lookups."
      ],
      "metadata": {
        "id": "kJPb7KTYUw4W"
      }
    },
    {
      "cell_type": "markdown",
      "source": [
        "---\n",
        "\n",
        "### **📘 Binary Tree Traversals (Inorder, Preorder, Postorder)**  \n",
        "---  \n",
        "**🔧 How It Works:**  \n",
        "Tree traversal algorithms visit all nodes of a **binary tree** in a specific order.  \n",
        "- **Inorder:** Left → Root → Right  \n",
        "- **Preorder:** Root → Left → Right  \n",
        "- **Postorder:** Left → Right → Root  \n",
        "Each traversal can be done **recursively or iteratively** and is used in parsing, evaluation, and tree reconstruction tasks.\n",
        "\n",
        "**⚙️ Performance:**  \n",
        "- Best case: O(n)  \n",
        "- Average case: O(n)  \n",
        "- Worst case: O(n) (n = number of nodes)  \n",
        "- Space: O(h) (h = height of the tree, for recursion stack)  \n",
        "---"
      ],
      "metadata": {
        "id": "3BOOeVTNZKIh"
      }
    },
    {
      "cell_type": "code",
      "source": [
        "# ✅ Python Implementation\n",
        "\n",
        "class TreeNode:\n",
        "    def __init__(self, val):\n",
        "        self.val = val\n",
        "        self.left = None\n",
        "        self.right = None\n",
        "\n",
        "def inorder(root):\n",
        "    return inorder(root.left) + [root.val] + inorder(root.right) if root else []\n",
        "\n",
        "def preorder(root):\n",
        "    return [root.val] + preorder(root.left) + preorder(root.right) if root else []\n",
        "\n",
        "def postorder(root):\n",
        "    return postorder(root.left) + postorder(root.right) + [root.val] if root else []\n"
      ],
      "metadata": {
        "id": "qr3aXf14ZJ22"
      },
      "execution_count": 27,
      "outputs": []
    },
    {
      "cell_type": "code",
      "source": [
        "# 🧪 Test Cases with Timer and Explanation\n",
        "\n",
        "import time\n",
        "\n",
        "# Construct the tree:\n",
        "#       1\n",
        "#      / \\\n",
        "#     2   3\n",
        "#    / \\\n",
        "#   4   5\n",
        "\n",
        "root = TreeNode(1)\n",
        "root.left = TreeNode(2)\n",
        "root.right = TreeNode(3)\n",
        "root.left.left = TreeNode(4)\n",
        "root.left.right = TreeNode(5)\n",
        "\n",
        "start = time.time()\n",
        "print(\"Inorder:\", inorder(root))      # Expected: [4, 2, 5, 1, 3]\n",
        "print(\"Preorder:\", preorder(root))    # Expected: [1, 2, 4, 5, 3]\n",
        "print(\"Postorder:\", postorder(root))  # Expected: [4, 5, 2, 3, 1]\n",
        "end = time.time()\n",
        "\n",
        "print(f\"Time taken: {end - start:.6f} seconds\")\n",
        "# Explanation:\n",
        "# Inorder visits Left → Root → Right → [4, 2, 5, 1, 3]\n",
        "# Preorder visits Root → Left → Right → [1, 2, 4, 5, 3]\n",
        "# Postorder visits Left → Right → Root → [4, 5, 2, 3, 1]\n"
      ],
      "metadata": {
        "colab": {
          "base_uri": "https://localhost:8080/"
        },
        "id": "Mp43RBvFZJps",
        "outputId": "3f58f5a7-56dc-4b64-e582-4335bcc05e6e"
      },
      "execution_count": 28,
      "outputs": [
        {
          "output_type": "stream",
          "name": "stdout",
          "text": [
            "Inorder: [4, 2, 5, 1, 3]\n",
            "Preorder: [1, 2, 4, 5, 3]\n",
            "Postorder: [4, 5, 2, 3, 1]\n",
            "Time taken: 0.001306 seconds\n"
          ]
        }
      ]
    },
    {
      "cell_type": "markdown",
      "source": [
        "---\n",
        "\n",
        "### **📘 Lowest Common Ancestor (LCA)**  \n",
        "---  \n",
        "**🔧 How It Works:**  \n",
        "The LCA of two nodes in a tree is the **deepest node** that is an ancestor of both. In a **binary tree**, it can be found by recursively searching for the two nodes: if one is found in the left subtree and the other in the right, the current node is their LCA. Optimized versions use preprocessing for fast queries in rooted trees.\n",
        "\n",
        "**⚙️ Performance:**  \n",
        "- Best case: O(log n) (in balanced trees)  \n",
        "- Average case: O(n)  \n",
        "- Worst case: O(n) (in skewed trees)  \n",
        "- Space: O(h) (h = height of the tree)  \n",
        "---"
      ],
      "metadata": {
        "id": "JatLIyeuZJYO"
      }
    },
    {
      "cell_type": "code",
      "source": [
        "# ✅ Python Implementation\n",
        "\n",
        "class TreeNode:\n",
        "    def __init__(self, val):\n",
        "        self.val = val\n",
        "        self.left = None\n",
        "        self.right = None\n",
        "\n",
        "def find_lca(root, p, q):\n",
        "    if root is None or root == p or root == q:\n",
        "        return root\n",
        "\n",
        "    left = find_lca(root.left, p, q)\n",
        "    right = find_lca(root.right, p, q)\n",
        "\n",
        "    if left and right:\n",
        "        return root\n",
        "    return left if left else right\n"
      ],
      "metadata": {
        "id": "at8zcQbEZJIN"
      },
      "execution_count": 29,
      "outputs": []
    },
    {
      "cell_type": "code",
      "source": [
        "# 🧪 Test Cases with Timer and Explanation\n",
        "\n",
        "import time\n",
        "\n",
        "# Build the tree:\n",
        "#       3\n",
        "#      / \\\n",
        "#     5   1\n",
        "#    / \\ / \\\n",
        "#   6  2 0  8\n",
        "#     / \\\n",
        "#    7   4\n",
        "\n",
        "root = TreeNode(3)\n",
        "root.left = TreeNode(5)\n",
        "root.right = TreeNode(1)\n",
        "root.left.left = TreeNode(6)\n",
        "root.left.right = TreeNode(2)\n",
        "root.right.left = TreeNode(0)\n",
        "root.right.right = TreeNode(8)\n",
        "root.left.right.left = TreeNode(7)\n",
        "root.left.right.right = TreeNode(4)\n",
        "\n",
        "p = root.left        # Node 5\n",
        "q = root.left.right.right  # Node 4\n",
        "\n",
        "start = time.time()\n",
        "lca_node = find_lca(root, p, q)\n",
        "end = time.time()\n",
        "\n",
        "print(\"LCA of nodes\", p.val, \"and\", q.val, \"is:\", lca_node.val)\n",
        "print(f\"Time taken: {end - start:.6f} seconds\")\n",
        "# Explanation: Node 5 is an ancestor of node 4, so LCA is 5\n"
      ],
      "metadata": {
        "colab": {
          "base_uri": "https://localhost:8080/"
        },
        "id": "94IK9qVzZI7w",
        "outputId": "d76c27a2-0be2-4ba5-eaf7-8b4cbe6291f9"
      },
      "execution_count": 30,
      "outputs": [
        {
          "output_type": "stream",
          "name": "stdout",
          "text": [
            "LCA of nodes 5 and 4 is: 5\n",
            "Time taken: 0.000105 seconds\n"
          ]
        }
      ]
    },
    {
      "cell_type": "markdown",
      "source": [
        "---\n",
        "\n",
        "### **📘 Trie Insertion and Search**  \n",
        "---  \n",
        "**🔧 How It Works:**  \n",
        "A Trie (prefix tree) is a tree-based data structure used to **store strings efficiently**. Each node represents a character, and words are formed by paths from the root. Insertion and search follow the characters of a word one by one, creating nodes as needed. Tries are ideal for **prefix matching** and **autocomplete**.\n",
        "\n",
        "**⚙️ Performance:**  \n",
        "- Best case: O(L)  \n",
        "- Average case: O(L) (L = length of word)  \n",
        "- Worst case: O(L)  \n",
        "- Space: O(AL × N) (A = alphabet size, N = number of words)  \n",
        "---"
      ],
      "metadata": {
        "id": "fhx1SJ0CZIo4"
      }
    },
    {
      "cell_type": "code",
      "source": [
        "# ✅ Python Implementation\n",
        "\n",
        "class TrieNode:\n",
        "    def __init__(self):\n",
        "        self.children = {}\n",
        "        self.end_of_word = False\n",
        "\n",
        "class Trie:\n",
        "    def __init__(self):\n",
        "        self.root = TrieNode()\n",
        "\n",
        "    def insert(self, word):\n",
        "        node = self.root\n",
        "        for ch in word:\n",
        "            if ch not in node.children:\n",
        "                node.children[ch] = TrieNode()\n",
        "            node = node.children[ch]\n",
        "        node.end_of_word = True\n",
        "\n",
        "    def search(self, word):\n",
        "        node = self.root\n",
        "        for ch in word:\n",
        "            if ch not in node.children:\n",
        "                return False\n",
        "            node = node.children[ch]\n",
        "        return node.end_of_word\n"
      ],
      "metadata": {
        "id": "u_47HJcbZIZn"
      },
      "execution_count": 31,
      "outputs": []
    },
    {
      "cell_type": "code",
      "source": [
        "# 🧪 Test Cases with Timer and Explanation\n",
        "\n",
        "import time\n",
        "\n",
        "trie = Trie()\n",
        "\n",
        "# Test Case 1: Insert and search for multiple words\n",
        "start = time.time()\n",
        "words = [\"apple\", \"app\", \"ape\"]\n",
        "for word in words:\n",
        "    trie.insert(word)\n",
        "\n",
        "print(\"Search 'apple':\", trie.search(\"apple\"))  # True\n",
        "print(\"Search 'app':\", trie.search(\"app\"))      # True\n",
        "print(\"Search 'apex':\", trie.search(\"apex\"))    # False\n",
        "end = time.time()\n",
        "\n",
        "print(f\"Time taken: {end - start:.6f} seconds\")\n",
        "# Explanation:\n",
        "# - \"apple\" and \"app\" were inserted → should return True\n",
        "# - \"apex\" was not inserted → should return False\n"
      ],
      "metadata": {
        "colab": {
          "base_uri": "https://localhost:8080/"
        },
        "id": "DRfvugxyZIMo",
        "outputId": "e1c325bf-1043-4ab2-be51-701e3f56f971"
      },
      "execution_count": 32,
      "outputs": [
        {
          "output_type": "stream",
          "name": "stdout",
          "text": [
            "Search 'apple': True\n",
            "Search 'app': True\n",
            "Search 'apex': False\n",
            "Time taken: 0.000329 seconds\n"
          ]
        }
      ]
    },
    {
      "cell_type": "markdown",
      "source": [
        "## **7. Computational Geometry**\n",
        "---\n",
        "Convex Hull (Graham Scan / Andrew’s Algorithm) – Smallest convex polygon enclosing points.\n",
        "\n",
        "Line Segment Intersection – Detect overlaps in 2D space.\n",
        "\n",
        "Sweep Line Algorithm – For processing geometric events in order."
      ],
      "metadata": {
        "id": "2j8TvlRQU36A"
      }
    },
    {
      "cell_type": "markdown",
      "source": [
        "---\n",
        "\n",
        "### **📘 Convex Hull (Graham Scan)**  \n",
        "---  \n",
        "**🔧 How It Works:**  \n",
        "The Convex Hull algorithm finds the **smallest convex polygon** that encloses a set of points. Graham Scan first sorts the points, then uses a **stack** to build the hull by checking the **turn direction** (left or right) between points. Points that make a right turn are removed to maintain convexity.\n",
        "\n",
        "**⚙️ Performance:**  \n",
        "- Best case: O(n log n)  \n",
        "- Average case: O(n log n)  \n",
        "- Worst case: O(n log n)  \n",
        "- Space: O(n) (for sorting and stack)  \n",
        "---"
      ],
      "metadata": {
        "id": "A5vgs0RkZe_G"
      }
    },
    {
      "cell_type": "code",
      "source": [
        "# ✅ Python Implementation\n",
        "\n",
        "def cross(o, a, b):\n",
        "    # Cross product of vectors OA and OB (O = origin, A & B = points)\n",
        "    return (a[0] - o[0]) * (b[1] - o[1]) - (a[1] - o[1]) * (b[0] - o[0])\n",
        "\n",
        "def convex_hull(points):\n",
        "    points = sorted(set(points))  # Sort and remove duplicates\n",
        "    if len(points) <= 1:\n",
        "        return points\n",
        "\n",
        "    lower = []\n",
        "    for p in points:\n",
        "        while len(lower) >= 2 and cross(lower[-2], lower[-1], p) <= 0:\n",
        "            lower.pop()\n",
        "        lower.append(p)\n",
        "\n",
        "    upper = []\n",
        "    for p in reversed(points):\n",
        "        while len(upper) >= 2 and cross(upper[-2], upper[-1], p) <= 0:\n",
        "            upper.pop()\n",
        "        upper.append(p)\n",
        "\n",
        "    # Remove last point of each half (repeats start/end of other half)\n",
        "    return lower[:-1] + upper[:-1]\n"
      ],
      "metadata": {
        "id": "APLdMtBNZewz"
      },
      "execution_count": 33,
      "outputs": []
    },
    {
      "cell_type": "code",
      "source": [
        "# 🧪 Test Cases with Timer and Explanation\n",
        "\n",
        "import time\n",
        "\n",
        "# Test Case 1\n",
        "points1 = [(0, 0), (1, 1), (2, 2), (2, 0), (2, 4), (3, 3), (0, 3)]\n",
        "\n",
        "start = time.time()\n",
        "hull1 = convex_hull(points1)\n",
        "end = time.time()\n",
        "\n",
        "print(\"Input points:\", points1)\n",
        "print(\"Convex Hull:\", hull1)\n",
        "print(f\"Time taken: {end - start:.6f} seconds\")\n",
        "# Explanation: Hull includes outermost points forming the convex boundary\n",
        "\n",
        "# Test Case 2\n",
        "points2 = [(1, 2), (2, 2), (2, 1), (1, 1), (1.5, 1.5)]\n",
        "\n",
        "start = time.time()\n",
        "hull2 = convex_hull(points2)\n",
        "end = time.time()\n",
        "\n",
        "print(\"\\nInput points:\", points2)\n",
        "print(\"Convex Hull:\", hull2)\n",
        "print(f\"Time taken: {end - start:.6f} seconds\")\n",
        "# Explanation: Convex hull excludes the center point (1.5, 1.5) and keeps corners\n"
      ],
      "metadata": {
        "colab": {
          "base_uri": "https://localhost:8080/"
        },
        "id": "OnAAvseNZekZ",
        "outputId": "03599199-7e39-40d0-bb53-25c9497d0624"
      },
      "execution_count": 34,
      "outputs": [
        {
          "output_type": "stream",
          "name": "stdout",
          "text": [
            "Input points: [(0, 0), (1, 1), (2, 2), (2, 0), (2, 4), (3, 3), (0, 3)]\n",
            "Convex Hull: [(0, 0), (2, 0), (3, 3), (2, 4), (0, 3)]\n",
            "Time taken: 0.000081 seconds\n",
            "\n",
            "Input points: [(1, 2), (2, 2), (2, 1), (1, 1), (1.5, 1.5)]\n",
            "Convex Hull: [(1, 1), (2, 1), (2, 2), (1, 2)]\n",
            "Time taken: 0.000064 seconds\n"
          ]
        }
      ]
    },
    {
      "cell_type": "markdown",
      "source": [
        "---\n",
        "\n",
        "### **📘 Line Segment Intersection**  \n",
        "---  \n",
        "**🔧 How It Works:**  \n",
        "This algorithm checks whether any two **line segments intersect** in a 2D plane. The common approach is to use the **orientation method** to determine the relative direction of points and apply the **general case and special case rules**. For many segments, a **sweep line** technique with an event queue is used for efficiency.\n",
        "\n",
        "**⚙️ Performance:**  \n",
        "- Best case: O(n log n) (with sweep line algorithm)  \n",
        "- Average case: O(n log n + k) (k = number of intersections)  \n",
        "- Worst case: O(n²) (brute-force comparison)  \n",
        "- Space: O(n) (event queue and active set)  \n",
        "---"
      ],
      "metadata": {
        "id": "mXEWdptjZeWX"
      }
    },
    {
      "cell_type": "code",
      "source": [
        "# ✅ Python Implementation\n",
        "\n",
        "def orientation(p, q, r):\n",
        "    val = (q[1] - p[1]) * (r[0] - q[0]) - (q[0] - p[0]) * (r[1] - q[1])\n",
        "    if val == 0:\n",
        "        return 0  # collinear\n",
        "    return 1 if val > 0 else 2  # 1 = clockwise, 2 = counterclockwise\n",
        "\n",
        "def on_segment(p, q, r):\n",
        "    return min(p[0], r[0]) <= q[0] <= max(p[0], r[0]) and min(p[1], r[1]) <= q[1] <= max(p[1], r[1])\n",
        "\n",
        "def segments_intersect(p1, q1, p2, q2):\n",
        "    o1 = orientation(p1, q1, p2)\n",
        "    o2 = orientation(p1, q1, q2)\n",
        "    o3 = orientation(p2, q2, p1)\n",
        "    o4 = orientation(p2, q2, q1)\n",
        "\n",
        "    # General case\n",
        "    if o1 != o2 and o3 != o4:\n",
        "        return True\n",
        "\n",
        "    # Special cases (collinear and overlapping)\n",
        "    if o1 == 0 and on_segment(p1, p2, q1): return True\n",
        "    if o2 == 0 and on_segment(p1, q2, q1): return True\n",
        "    if o3 == 0 and on_segment(p2, p1, q2): return True\n",
        "    if o4 == 0 and on_segment(p2, q1, q2): return True\n",
        "\n",
        "    return False\n"
      ],
      "metadata": {
        "id": "xIiwqHOTZeD2"
      },
      "execution_count": 35,
      "outputs": []
    },
    {
      "cell_type": "code",
      "source": [
        "# 🧪 Test Cases with Timer and Explanation\n",
        "\n",
        "import time\n",
        "\n",
        "# Test Case 1: Intersecting segments\n",
        "p1, q1 = (1, 1), (4, 4)\n",
        "p2, q2 = (1, 4), (4, 1)\n",
        "\n",
        "start = time.time()\n",
        "result1 = segments_intersect(p1, q1, p2, q2)\n",
        "end = time.time()\n",
        "\n",
        "print(\"Segments 1 and 2 intersect:\", result1)\n",
        "print(f\"Time taken: {end - start:.6f} seconds\")\n",
        "# Explanation: Segments cross each other forming an 'X'\n",
        "\n",
        "# Test Case 2: Non-intersecting segments\n",
        "p3, q3 = (0, 0), (1, 1)\n",
        "p4, q4 = (2, 2), (3, 3)\n",
        "\n",
        "start = time.time()\n",
        "result2 = segments_intersect(p3, q3, p4, q4)\n",
        "end = time.time()\n",
        "\n",
        "print(\"\\nSegments 3 and 4 intersect:\", result2)\n",
        "print(f\"Time taken: {end - start:.6f} seconds\")\n",
        "# Explanation: Segments are collinear but non-overlapping\n"
      ],
      "metadata": {
        "colab": {
          "base_uri": "https://localhost:8080/"
        },
        "id": "LRP_FlRQZd37",
        "outputId": "a5f303cd-a2ca-47bf-a111-1db5a751cf6d"
      },
      "execution_count": 36,
      "outputs": [
        {
          "output_type": "stream",
          "name": "stdout",
          "text": [
            "Segments 1 and 2 intersect: True\n",
            "Time taken: 0.000091 seconds\n",
            "\n",
            "Segments 3 and 4 intersect: False\n",
            "Time taken: 0.000096 seconds\n"
          ]
        }
      ]
    },
    {
      "cell_type": "markdown",
      "source": [
        "---\n",
        "\n",
        "### **📘 Sweep Line Algorithm**  \n",
        "---  \n",
        "**🔧 How It Works:**  \n",
        "The Sweep Line algorithm processes a set of geometric events (like points or segments) by moving a **virtual vertical line** from left to right. It maintains an **active set** of objects the line is currently intersecting. As events occur (like segment start/end), the structure updates to detect **intersections** or enforce **ordering** efficiently.\n",
        "\n",
        "**⚙️ Performance:**  \n",
        "- Best case: O(n log n)  \n",
        "- Average case: O(n log n + k) (k = number of output events)  \n",
        "- Worst case: O(n²) (if all elements interact)  \n",
        "- Space: O(n) (event queue and active data structure)  \n",
        "---"
      ],
      "metadata": {
        "id": "pyFf120uZdkS"
      }
    },
    {
      "cell_type": "code",
      "source": [
        "# ✅ Python Implementation (Bentley-Ottmann simplified version for vertical/horizontal lines)\n",
        "\n",
        "import heapq\n",
        "\n",
        "def sweep_line_intersections(segments):\n",
        "    events = []\n",
        "    for i, ((x1, y1), (x2, y2)) in enumerate(segments):\n",
        "        left = (x1, y1) if x1 < x2 or (x1 == x2 and y1 < y2) else (x2, y2)\n",
        "        right = (x2, y2) if left == (x1, y1) else (x1, y1)\n",
        "        events.append((left[0], 0, left[1], i))   # segment start\n",
        "        events.append((right[0], 1, right[1], i)) # segment end\n",
        "\n",
        "    events.sort()\n",
        "    active = set()\n",
        "    intersections = []\n",
        "\n",
        "    for x, typ, y, idx in events:\n",
        "        if typ == 0:\n",
        "            for other in active:\n",
        "                if segments_intersect(segments[idx][0], segments[idx][1],\n",
        "                                      segments[other][0], segments[other][1]):\n",
        "                    intersections.append((idx, other))\n",
        "            active.add(idx)\n",
        "        else:\n",
        "            active.discard(idx)\n",
        "\n",
        "    return intersections\n"
      ],
      "metadata": {
        "id": "72ngb5IoZdX2"
      },
      "execution_count": 37,
      "outputs": []
    },
    {
      "cell_type": "code",
      "source": [
        "# 🧪 Test Cases with Timer and Explanation\n",
        "\n",
        "import time\n",
        "\n",
        "# Required helper from previous algorithm\n",
        "def orientation(p, q, r):\n",
        "    val = (q[1] - p[1]) * (r[0] - q[0]) - (q[0] - p[0]) * (r[1] - q[1])\n",
        "    if val == 0:\n",
        "        return 0\n",
        "    return 1 if val > 0 else 2\n",
        "\n",
        "def on_segment(p, q, r):\n",
        "    return min(p[0], r[0]) <= q[0] <= max(p[0], r[0]) and min(p[1], r[1]) <= q[1] <= max(p[1], r[1])\n",
        "\n",
        "def segments_intersect(p1, q1, p2, q2):\n",
        "    o1 = orientation(p1, q1, p2)\n",
        "    o2 = orientation(p1, q1, q2)\n",
        "    o3 = orientation(p2, q2, p1)\n",
        "    o4 = orientation(p2, q2, q1)\n",
        "\n",
        "    if o1 != o2 and o3 != o4:\n",
        "        return True\n",
        "    if o1 == 0 and on_segment(p1, p2, q1): return True\n",
        "    if o2 == 0 and on_segment(p1, q2, q1): return True\n",
        "    if o3 == 0 and on_segment(p2, p1, q2): return True\n",
        "    if o4 == 0 and on_segment(p2, q1, q2): return True\n",
        "    return False\n",
        "\n",
        "# Test Case\n",
        "segments = [\n",
        "    ((1, 1), (5, 5)),\n",
        "    ((1, 5), (5, 1)),\n",
        "    ((2, 2), (6, 2)),\n",
        "    ((3, 0), (3, 6)),\n",
        "]\n",
        "\n",
        "start = time.time()\n",
        "intersections = sweep_line_intersections(segments)\n",
        "end = time.time()\n",
        "\n",
        "print(\"Segments:\", segments)\n",
        "print(\"Intersecting pairs (by indices):\", intersections)\n",
        "print(f\"Time taken: {end - start:.6f} seconds\")\n",
        "# Explanation: Reports index pairs of segments that intersect (e.g., (0, 1), (2, 3))\n"
      ],
      "metadata": {
        "colab": {
          "base_uri": "https://localhost:8080/"
        },
        "id": "K-_QdRGnZdL5",
        "outputId": "64218380-5b2a-48ea-d951-735b0a3953dc"
      },
      "execution_count": 38,
      "outputs": [
        {
          "output_type": "stream",
          "name": "stdout",
          "text": [
            "Segments: [((1, 1), (5, 5)), ((1, 5), (5, 1)), ((2, 2), (6, 2)), ((3, 0), (3, 6))]\n",
            "Intersecting pairs (by indices): [(1, 0), (2, 0), (2, 1), (3, 0), (3, 1), (3, 2)]\n",
            "Time taken: 0.000090 seconds\n"
          ]
        }
      ]
    },
    {
      "cell_type": "markdown",
      "source": [
        "## **8. Greedy Algorithms**\n",
        "---\n",
        "Activity Selection Problem – Choose max compatible activities.\n",
        "\n",
        "Huffman Coding – Optimal prefix coding for data compression.\n",
        "\n",
        "Prim’s Algorithm – Minimum Spanning Tree construction.\n",
        "\n"
      ],
      "metadata": {
        "id": "H42oDr2hU_Q6"
      }
    },
    {
      "cell_type": "markdown",
      "source": [
        "---\n",
        "\n",
        "### **📘 Activity Selection Problem**  \n",
        "---  \n",
        "**🔧 How It Works:**  \n",
        "The Activity Selection Problem aims to **select the maximum number of non-overlapping activities**, each with a start and end time. The greedy strategy is to **sort activities by end time** and always pick the next one that finishes earliest and doesn't overlap with the previous selection.\n",
        "\n",
        "**⚙️ Performance:**  \n",
        "- Best case: O(n log n) (for sorting)  \n",
        "- Average case: O(n log n)  \n",
        "- Worst case: O(n log n)  \n",
        "- Space: O(1) (in-place selection)  \n",
        "---"
      ],
      "metadata": {
        "id": "x7Jq_pIcZhsQ"
      }
    },
    {
      "cell_type": "code",
      "source": [
        "# ✅ Python Implementation\n",
        "\n",
        "def activity_selection(activities):\n",
        "    # Sort activities based on end time\n",
        "    sorted_acts = sorted(activities, key=lambda x: x[1])\n",
        "    selected = [sorted_acts[0]]\n",
        "\n",
        "    for i in range(1, len(sorted_acts)):\n",
        "        if sorted_acts[i][0] >= selected[-1][1]:\n",
        "            selected.append(sorted_acts[i])\n",
        "\n",
        "    return selected\n"
      ],
      "metadata": {
        "id": "1yy-EtnyZhcp"
      },
      "execution_count": 40,
      "outputs": []
    },
    {
      "cell_type": "code",
      "source": [
        "# 🧪 Test Cases with Timer and Explanation\n",
        "\n",
        "import time\n",
        "\n",
        "# Test Case 1\n",
        "activities1 = [(1, 4), (3, 5), (0, 6), (5, 7), (8, 9), (5, 9)]\n",
        "\n",
        "start = time.time()\n",
        "selected1 = activity_selection(activities1)\n",
        "end = time.time()\n",
        "\n",
        "print(\"Input activities:\", activities1)\n",
        "print(\"Selected activities:\", selected1)\n",
        "print(f\"Time taken: {end - start:.6f} seconds\")\n",
        "# Explanation: Optimal selection is [(1, 4), (5, 7), (8, 9)]\n",
        "\n",
        "# Test Case 2\n",
        "activities2 = [(2, 3), (3, 4), (0, 1), (5, 9), (6, 10)]\n",
        "\n",
        "start = time.time()\n",
        "selected2 = activity_selection(activities2)\n",
        "end = time.time()\n",
        "\n",
        "print(\"\\nInput activities:\", activities2)\n",
        "print(\"Selected activities:\", selected2)\n",
        "print(f\"Time taken: {end - start:.6f} seconds\")\n",
        "# Explanation: Optimal selection is [(0, 1), (2, 3), (3, 4), (5, 9)]\n"
      ],
      "metadata": {
        "colab": {
          "base_uri": "https://localhost:8080/"
        },
        "id": "3muqDrIJZhPJ",
        "outputId": "41746c2c-450a-48b6-e22f-ffcee0a45106"
      },
      "execution_count": 41,
      "outputs": [
        {
          "output_type": "stream",
          "name": "stdout",
          "text": [
            "Input activities: [(1, 4), (3, 5), (0, 6), (5, 7), (8, 9), (5, 9)]\n",
            "Selected activities: [(1, 4), (5, 7), (8, 9)]\n",
            "Time taken: 0.000063 seconds\n",
            "\n",
            "Input activities: [(2, 3), (3, 4), (0, 1), (5, 9), (6, 10)]\n",
            "Selected activities: [(0, 1), (2, 3), (3, 4), (5, 9)]\n",
            "Time taken: 0.000056 seconds\n"
          ]
        }
      ]
    },
    {
      "cell_type": "markdown",
      "source": [
        "---\n",
        "\n",
        "### **📘 Huffman Coding**  \n",
        "---  \n",
        "**🔧 How It Works:**  \n",
        "Huffman Coding is a **greedy algorithm** used for **lossless data compression**. It builds a binary tree where **frequent characters have shorter codes**. The process starts by placing all characters in a priority queue based on frequency and then repeatedly merges the two least frequent nodes until one tree remains.\n",
        "\n",
        "**⚙️ Performance:**  \n",
        "- Best case: O(n log n) (n = number of characters)  \n",
        "- Average case: O(n log n)  \n",
        "- Worst case: O(n log n)  \n",
        "- Space: O(n) (for tree and code table)  \n",
        "---"
      ],
      "metadata": {
        "id": "V8DJsf6WZg_5"
      }
    },
    {
      "cell_type": "code",
      "source": [
        "# ✅ Python Implementation\n",
        "\n",
        "import heapq\n",
        "from collections import defaultdict, Counter\n",
        "\n",
        "class HuffmanNode:\n",
        "    def __init__(self, char=None, freq=0):\n",
        "        self.char = char\n",
        "        self.freq = freq\n",
        "        self.left = None\n",
        "        self.right = None\n",
        "\n",
        "    def __lt__(self, other):  # For priority queue\n",
        "        return self.freq < other.freq\n",
        "\n",
        "def build_huffman_tree(text):\n",
        "    freq = Counter(text)\n",
        "    heap = [HuffmanNode(ch, fr) for ch, fr in freq.items()]\n",
        "    heapq.heapify(heap)\n",
        "\n",
        "    while len(heap) > 1:\n",
        "        n1 = heapq.heappop(heap)\n",
        "        n2 = heapq.heappop(heap)\n",
        "        merged = HuffmanNode(freq=n1.freq + n2.freq)\n",
        "        merged.left = n1\n",
        "        merged.right = n2\n",
        "        heapq.heappush(heap, merged)\n",
        "\n",
        "    return heap[0]\n",
        "\n",
        "def generate_codes(node, current_code=\"\", codes=None):\n",
        "    if codes is None:\n",
        "        codes = {}\n",
        "    if node:\n",
        "        if node.char is not None:\n",
        "            codes[node.char] = current_code\n",
        "        generate_codes(node.left, current_code + \"0\", codes)\n",
        "        generate_codes(node.right, current_code + \"1\", codes)\n",
        "    return codes\n",
        "\n",
        "def huffman_encode(text):\n",
        "    root = build_huffman_tree(text)\n",
        "    code_map = generate_codes(root)\n",
        "    encoded = ''.join(code_map[ch] for ch in text)\n",
        "    return encoded, code_map\n"
      ],
      "metadata": {
        "id": "6FhS2mwQZgvl"
      },
      "execution_count": 42,
      "outputs": []
    },
    {
      "cell_type": "code",
      "source": [
        "# 🧪 Test Cases with Timer and Explanation\n",
        "\n",
        "import time\n",
        "\n",
        "# Test Case 1\n",
        "text1 = \"aabacabad\"\n",
        "\n",
        "start = time.time()\n",
        "encoded1, codes1 = huffman_encode(text1)\n",
        "end = time.time()\n",
        "\n",
        "print(\"Original text:\", text1)\n",
        "print(\"Huffman Codes:\", codes1)\n",
        "print(\"Encoded binary string:\", encoded1)\n",
        "print(f\"Time taken: {end - start:.6f} seconds\")\n",
        "# Explanation: Characters with higher frequency get shorter codes (e.g., 'a')\n",
        "\n",
        "# Test Case 2\n",
        "text2 = \"this is an example for huffman encoding\"\n",
        "\n",
        "start = time.time()\n",
        "encoded2, codes2 = huffman_encode(text2)\n",
        "end = time.time()\n",
        "\n",
        "print(\"\\nOriginal text:\", text2)\n",
        "print(\"Huffman Codes:\", codes2)\n",
        "print(\"Encoded binary string:\", encoded2)\n",
        "print(f\"Time taken: {end - start:.6f} seconds\")\n",
        "# Explanation: Common letters like ' ' (space) and 'e' will have shorter codes\n"
      ],
      "metadata": {
        "colab": {
          "base_uri": "https://localhost:8080/"
        },
        "id": "wZNqoafDZgiJ",
        "outputId": "5d736c9d-191f-4016-d4e9-34489d3856f4"
      },
      "execution_count": 43,
      "outputs": [
        {
          "output_type": "stream",
          "name": "stdout",
          "text": [
            "Original text: aabacabad\n",
            "Huffman Codes: {'b': '00', 'c': '010', 'd': '011', 'a': '1'}\n",
            "Encoded binary string: 110010101001011\n",
            "Time taken: 0.000232 seconds\n",
            "\n",
            "Original text: this is an example for huffman encoding\n",
            "Huffman Codes: {'n': '000', 's': '0010', 'm': '0011', 'h': '0100', 't': '01010', 'd': '01011', 'r': '01100', 'l': '01101', 'x': '01110', 'c': '01111', 'p': '10000', 'g': '10001', 'i': '1001', ' ': '101', 'u': '11000', 'o': '11001', 'f': '1101', 'e': '1110', 'a': '1111'}\n",
            "Encoded binary string: 0101001001001001010110010010101111100010111100111011110011100000110111101011101110010110010101001100011011101001111110001011110000011111100101011100100010001\n",
            "Time taken: 0.000160 seconds\n"
          ]
        }
      ]
    },
    {
      "cell_type": "markdown",
      "source": [
        "---\n",
        "\n",
        "### **📘 Prim’s Algorithm**  \n",
        "---  \n",
        "**🔧 How It Works:**  \n",
        "Prim’s Algorithm finds a **minimum spanning tree (MST)** for a weighted, connected graph. It starts from any node and grows the MST by always choosing the **smallest weight edge** that connects a new node to the tree. A **priority queue (min-heap)** helps efficiently select the next edge.\n",
        "\n",
        "**⚙️ Performance:**  \n",
        "- Best case: O(E + log V) (with Fibonacci heap)  \n",
        "- Average case: O(E log V) (with binary heap and adjacency list)  \n",
        "- Worst case: O(V²) (with adjacency matrix)  \n",
        "- Space: O(V + E)  \n",
        "---"
      ],
      "metadata": {
        "id": "Jb5Zl5AqZgS6"
      }
    },
    {
      "cell_type": "code",
      "source": [
        "# ✅ Python Implementation\n",
        "\n",
        "import heapq\n",
        "from collections import defaultdict\n",
        "\n",
        "def prim_mst(graph, start):\n",
        "    mst = []\n",
        "    visited = set([start])\n",
        "    edges = [(weight, start, to) for to, weight in graph[start]]\n",
        "    heapq.heapify(edges)\n",
        "\n",
        "    while edges:\n",
        "        weight, frm, to = heapq.heappop(edges)\n",
        "        if to not in visited:\n",
        "            visited.add(to)\n",
        "            mst.append((frm, to, weight))\n",
        "            for neighbor, w in graph[to]:\n",
        "                if neighbor not in visited:\n",
        "                    heapq.heappush(edges, (w, to, neighbor))\n",
        "    return mst\n"
      ],
      "metadata": {
        "id": "v83Fgfx0ZgFK"
      },
      "execution_count": 44,
      "outputs": []
    },
    {
      "cell_type": "code",
      "source": [
        "# 🧪 Test Cases with Timer and Explanation\n",
        "\n",
        "import time\n",
        "\n",
        "# Test Case 1\n",
        "graph1 = {\n",
        "    'A': [('B', 2), ('D', 6)],\n",
        "    'B': [('A', 2), ('C', 3), ('D', 8)],\n",
        "    'C': [('B', 3), ('D', 5)],\n",
        "    'D': [('A', 6), ('B', 8), ('C', 5)]\n",
        "}\n",
        "\n",
        "start = time.time()\n",
        "mst1 = prim_mst(graph1, 'A')\n",
        "end = time.time()\n",
        "\n",
        "print(\"Graph:\", graph1)\n",
        "print(\"MST edges:\", mst1)\n",
        "print(f\"Time taken: {end - start:.6f} seconds\")\n",
        "# Explanation: The MST includes the smallest edges connecting all nodes without cycles\n",
        "\n",
        "# Test Case 2\n",
        "graph2 = {\n",
        "    0: [(1, 4), (2, 3)],\n",
        "    1: [(0, 4), (2, 1), (3, 2)],\n",
        "    2: [(0, 3), (1, 1), (3, 4)],\n",
        "    3: [(1, 2), (2, 4)]\n",
        "}\n",
        "\n",
        "start = time.time()\n",
        "mst2 = prim_mst(graph2, 0)\n",
        "end = time.time()\n",
        "\n",
        "print(\"\\nGraph:\", graph2)\n",
        "print(\"MST edges:\", mst2)\n",
        "print(f\"Time taken: {end - start:.6f} seconds\")\n",
        "# Explanation: Outputs the set of edges that form the minimum spanning tree\n"
      ],
      "metadata": {
        "colab": {
          "base_uri": "https://localhost:8080/"
        },
        "id": "gmiGaNilZf48",
        "outputId": "45d80199-f3ca-415b-9c6b-b279fec0c23a"
      },
      "execution_count": 45,
      "outputs": [
        {
          "output_type": "stream",
          "name": "stdout",
          "text": [
            "Graph: {'A': [('B', 2), ('D', 6)], 'B': [('A', 2), ('C', 3), ('D', 8)], 'C': [('B', 3), ('D', 5)], 'D': [('A', 6), ('B', 8), ('C', 5)]}\n",
            "MST edges: [('A', 'B', 2), ('B', 'C', 3), ('C', 'D', 5)]\n",
            "Time taken: 0.000075 seconds\n",
            "\n",
            "Graph: {0: [(1, 4), (2, 3)], 1: [(0, 4), (2, 1), (3, 2)], 2: [(0, 3), (1, 1), (3, 4)], 3: [(1, 2), (2, 4)]}\n",
            "MST edges: [(0, 2, 3), (2, 1, 1), (1, 3, 2)]\n",
            "Time taken: 0.000076 seconds\n"
          ]
        }
      ]
    },
    {
      "cell_type": "markdown",
      "source": [
        "## **9. Backtracking**\n",
        "---\n",
        "N-Queens Problem – Place queens without attacks.\n",
        "\n",
        "Sudoku Solver – Fill the board using constraint satisfaction.\n",
        "\n",
        "Subset Sum Problem – Decide if subset sums to target."
      ],
      "metadata": {
        "id": "TrL61IBpVThX"
      }
    },
    {
      "cell_type": "markdown",
      "source": [
        "---\n",
        "\n",
        "### **📘 N-Queens Problem**  \n",
        "---  \n",
        "**🔧 How It Works:**  \n",
        "The N-Queens Problem places **N queens on an N×N chessboard** so that no two queens threaten each other. It uses **backtracking** to try placing queens row by row, and if a conflict occurs, it backtracks to try a different position. It ensures no two queens share the same row, column, or diagonal.\n",
        "\n",
        "**⚙️ Performance:**  \n",
        "- Best case: O(N!)  \n",
        "- Average case: O(N!)  \n",
        "- Worst case: O(N!)  \n",
        "- Space: O(N) (for storing queen positions)  \n",
        "---"
      ],
      "metadata": {
        "id": "kkW4lLv3ZkpP"
      }
    },
    {
      "cell_type": "code",
      "source": [
        "# ✅ Python Implementation\n",
        "\n",
        "def solve_n_queens(n):\n",
        "    solutions = []\n",
        "    board = [-1] * n  # board[i] = column of queen in row i\n",
        "\n",
        "    def is_safe(row, col):\n",
        "        for i in range(row):\n",
        "            if board[i] == col or \\\n",
        "               abs(board[i] - col) == abs(i - row):\n",
        "                return False\n",
        "        return True\n",
        "\n",
        "    def backtrack(row):\n",
        "        if row == n:\n",
        "            solutions.append(board[:])\n",
        "            return\n",
        "        for col in range(n):\n",
        "            if is_safe(row, col):\n",
        "                board[row] = col\n",
        "                backtrack(row + 1)\n",
        "                board[row] = -1\n",
        "\n",
        "    backtrack(0)\n",
        "    return solutions\n"
      ],
      "metadata": {
        "id": "tCd_fiSvZkar"
      },
      "execution_count": 46,
      "outputs": []
    },
    {
      "cell_type": "code",
      "source": [
        "# 🧪 Test Cases with Timer and Explanation\n",
        "\n",
        "import time\n",
        "\n",
        "def print_board(solution):\n",
        "    n = len(solution)\n",
        "    for row in solution:\n",
        "        line = ['.'] * n\n",
        "        line[row] = 'Q'\n",
        "        print(\"\".join(line))\n",
        "    print()\n",
        "\n",
        "# Test Case 1\n",
        "n1 = 4\n",
        "start = time.time()\n",
        "sol1 = solve_n_queens(n1)\n",
        "end = time.time()\n",
        "\n",
        "print(f\"Total solutions for N = {n1}:\", len(sol1))\n",
        "print(\"One solution:\")\n",
        "print_board(sol1[0])\n",
        "print(f\"Time taken: {end - start:.6f} seconds\")\n",
        "# Explanation: 4-Queens has 2 solutions; shows one with safe placement\n",
        "\n",
        "# Test Case 2\n",
        "n2 = 5\n",
        "start = time.time()\n",
        "sol2 = solve_n_queens(n2)\n",
        "end = time.time()\n",
        "\n",
        "print(f\"\\nTotal solutions for N = {n2}:\", len(sol2))\n",
        "print(\"One solution:\")\n",
        "print_board(sol2[0])\n",
        "print(f\"Time taken: {end - start:.6f} seconds\")\n",
        "# Explanation: 5-Queens has 10 solutions; shows one valid configuration\n"
      ],
      "metadata": {
        "colab": {
          "base_uri": "https://localhost:8080/"
        },
        "id": "zPylJHF0ZkMG",
        "outputId": "ab41c3e3-89eb-4c39-9d49-609c421c53a0"
      },
      "execution_count": 47,
      "outputs": [
        {
          "output_type": "stream",
          "name": "stdout",
          "text": [
            "Total solutions for N = 4: 2\n",
            "One solution:\n",
            ".Q..\n",
            "...Q\n",
            "Q...\n",
            "..Q.\n",
            "\n",
            "Time taken: 0.000145 seconds\n",
            "\n",
            "Total solutions for N = 5: 10\n",
            "One solution:\n",
            "Q....\n",
            "..Q..\n",
            "....Q\n",
            ".Q...\n",
            "...Q.\n",
            "\n",
            "Time taken: 0.000269 seconds\n"
          ]
        }
      ]
    },
    {
      "cell_type": "markdown",
      "source": [
        "---\n",
        "\n",
        "### **📘 Sudoku Solver**  \n",
        "---  \n",
        "**🔧 How It Works:**  \n",
        "The Sudoku Solver fills a 9×9 grid so that every row, column, and 3×3 box contains all digits from 1 to 9. It uses **backtracking** by trying digits in empty cells one by one. If a digit leads to a valid state, it proceeds; otherwise, it backtracks and tries the next digit.\n",
        "\n",
        "**⚙️ Performance:**  \n",
        "- Best case: O(1) (if almost solved)  \n",
        "- Average case: O(9ᵏ) (k = number of empty cells)  \n",
        "- Worst case: O(9⁸¹) (completely empty board)  \n",
        "- Space: O(k) (depth of recursion stack)  \n",
        "---"
      ],
      "metadata": {
        "id": "Q6oSUIKGZj6F"
      }
    },
    {
      "cell_type": "code",
      "source": [
        "# ✅ Python Implementation\n",
        "\n",
        "def is_valid(board, row, col, num):\n",
        "    for i in range(9):\n",
        "        if board[row][i] == num or board[i][col] == num:\n",
        "            return False\n",
        "\n",
        "    box_start_row = row - row % 3\n",
        "    box_start_col = col - col % 3\n",
        "\n",
        "    for i in range(3):\n",
        "        for j in range(3):\n",
        "            if board[box_start_row + i][box_start_col + j] == num:\n",
        "                return False\n",
        "\n",
        "    return True\n",
        "\n",
        "def solve_sudoku(board):\n",
        "    for row in range(9):\n",
        "        for col in range(9):\n",
        "            if board[row][col] == 0:\n",
        "                for num in range(1, 10):\n",
        "                    if is_valid(board, row, col, num):\n",
        "                        board[row][col] = num\n",
        "                        if solve_sudoku(board):\n",
        "                            return True\n",
        "                        board[row][col] = 0\n",
        "                return False\n",
        "    return True\n"
      ],
      "metadata": {
        "id": "8RzIWHwKZjqL"
      },
      "execution_count": 48,
      "outputs": []
    },
    {
      "cell_type": "code",
      "source": [
        "# 🧪 Test Cases with Timer and Explanation\n",
        "\n",
        "import time\n",
        "\n",
        "# Test Case 1: Easy Sudoku with a unique solution\n",
        "board1 = [\n",
        "    [5, 3, 0, 0, 7, 0, 0, 0, 0],\n",
        "    [6, 0, 0, 1, 9, 5, 0, 0, 0],\n",
        "    [0, 9, 8, 0, 0, 0, 0, 6, 0],\n",
        "    [8, 0, 0, 0, 6, 0, 0, 0, 3],\n",
        "    [4, 0, 0, 8, 0, 3, 0, 0, 1],\n",
        "    [7, 0, 0, 0, 2, 0, 0, 0, 6],\n",
        "    [0, 6, 0, 0, 0, 0, 2, 8, 0],\n",
        "    [0, 0, 0, 4, 1, 9, 0, 0, 5],\n",
        "    [0, 0, 0, 0, 8, 0, 0, 7, 9]\n",
        "]\n",
        "\n",
        "start = time.time()\n",
        "solved = solve_sudoku(board1)\n",
        "end = time.time()\n",
        "\n",
        "print(\"Solved Sudoku Board:\")\n",
        "for row in board1:\n",
        "    print(row)\n",
        "print(f\"Time taken: {end - start:.6f} seconds\")\n",
        "# Explanation: Uses backtracking to fill in all empty cells with valid digits\n"
      ],
      "metadata": {
        "colab": {
          "base_uri": "https://localhost:8080/"
        },
        "id": "UNyuVpdaZjcu",
        "outputId": "d895a58a-4212-40f4-b517-5fef32c41a81"
      },
      "execution_count": 49,
      "outputs": [
        {
          "output_type": "stream",
          "name": "stdout",
          "text": [
            "Solved Sudoku Board:\n",
            "[5, 3, 4, 6, 7, 8, 9, 1, 2]\n",
            "[6, 7, 2, 1, 9, 5, 3, 4, 8]\n",
            "[1, 9, 8, 3, 4, 2, 5, 6, 7]\n",
            "[8, 5, 9, 7, 6, 1, 4, 2, 3]\n",
            "[4, 2, 6, 8, 5, 3, 7, 9, 1]\n",
            "[7, 1, 3, 9, 2, 4, 8, 5, 6]\n",
            "[9, 6, 1, 5, 3, 7, 2, 8, 4]\n",
            "[2, 8, 7, 4, 1, 9, 6, 3, 5]\n",
            "[3, 4, 5, 2, 8, 6, 1, 7, 9]\n",
            "Time taken: 0.075706 seconds\n"
          ]
        }
      ]
    },
    {
      "cell_type": "markdown",
      "source": [
        "---\n",
        "\n",
        "### **📘 Subset Sum Problem**  \n",
        "---  \n",
        "**🔧 How It Works:**  \n",
        "The Subset Sum Problem checks if there exists a **subset of numbers** in a given list that **adds up to a target sum**. It uses **backtracking** to explore possible combinations, and can also be solved using **dynamic programming** for improved efficiency in some cases.\n",
        "\n",
        "**⚙️ Performance:**  \n",
        "- Best case: O(1) (early solution found)  \n",
        "- Average case: O(2ⁿ)  \n",
        "- Worst case: O(2ⁿ) (n = number of elements)  \n",
        "- Space: O(n) (recursion stack)  \n",
        "---"
      ],
      "metadata": {
        "id": "J2kJrBL0ZjMw"
      }
    },
    {
      "cell_type": "code",
      "source": [
        "# ✅ Python Implementation (Backtracking Approach)\n",
        "\n",
        "def subset_sum(nums, target):\n",
        "    def backtrack(index, current_sum):\n",
        "        if current_sum == target:\n",
        "            return True\n",
        "        if index == len(nums) or current_sum > target:\n",
        "            return False\n",
        "        # Include current element\n",
        "        if backtrack(index + 1, current_sum + nums[index]):\n",
        "            return True\n",
        "        # Exclude current element\n",
        "        return backtrack(index + 1, current_sum)\n",
        "\n",
        "    return backtrack(0, 0)\n"
      ],
      "metadata": {
        "id": "7uWOXxdEZi3Z"
      },
      "execution_count": 50,
      "outputs": []
    },
    {
      "cell_type": "code",
      "source": [
        "# 🧪 Test Cases with Timer and Explanation\n",
        "\n",
        "import time\n",
        "\n",
        "# Test Case 1\n",
        "nums1 = [3, 34, 4, 12, 5, 2]\n",
        "target1 = 9\n",
        "\n",
        "start = time.time()\n",
        "result1 = subset_sum(nums1, target1)\n",
        "end = time.time()\n",
        "\n",
        "print(\"Input:\", nums1)\n",
        "print(\"Target sum:\", target1)\n",
        "print(\"Subset exists:\", result1)\n",
        "print(f\"Time taken: {end - start:.6f} seconds\")\n",
        "# Explanation: A subset [4, 5] or [3, 4, 2] sums to 9\n",
        "\n",
        "# Test Case 2\n",
        "nums2 = [1, 2, 5]\n",
        "target2 = 4\n",
        "\n",
        "start = time.time()\n",
        "result2 = subset_sum(nums2, target2)\n",
        "end = time.time()\n",
        "\n",
        "print(\"\\nInput:\", nums2)\n",
        "print(\"Target sum:\", target2)\n",
        "print(\"Subset exists:\", result2)\n",
        "print(f\"Time taken: {end - start:.6f} seconds\")\n",
        "# Explanation: No subset adds up to 4\n"
      ],
      "metadata": {
        "colab": {
          "base_uri": "https://localhost:8080/"
        },
        "id": "VIYbNCsOZio7",
        "outputId": "f4dd4b3e-ef5d-44eb-fb65-a1e1a61f2497"
      },
      "execution_count": 51,
      "outputs": [
        {
          "output_type": "stream",
          "name": "stdout",
          "text": [
            "Input: [3, 34, 4, 12, 5, 2]\n",
            "Target sum: 9\n",
            "Subset exists: True\n",
            "Time taken: 0.000093 seconds\n",
            "\n",
            "Input: [1, 2, 5]\n",
            "Target sum: 4\n",
            "Subset exists: False\n",
            "Time taken: 0.000052 seconds\n"
          ]
        }
      ]
    },
    {
      "cell_type": "markdown",
      "source": [
        "## **10. Cryptographic Algorithms**\n",
        "---\n",
        "RSA Encryption/Decryption – Public key cryptography.\n",
        "\n",
        "Caesar Cipher – Basic substitution cipher.\n",
        "\n",
        "SHA-256 Hashing – Secure hashing for integrity checking."
      ],
      "metadata": {
        "id": "ewb7l774VfNN"
      }
    },
    {
      "cell_type": "markdown",
      "source": [
        "---\n",
        "\n",
        "### **📘 RSA Encryption/Decryption**  \n",
        "---  \n",
        "**🔧 How It Works:**  \n",
        "RSA is a **public-key cryptographic algorithm** that secures data by using a pair of keys: a **public key** for encryption and a **private key** for decryption. It relies on the **mathematical difficulty of factoring large prime numbers**. Messages are encrypted as modular exponentiations and can only be decrypted using the private key.\n",
        "\n",
        "**⚙️ Performance:**  \n",
        "- Best case: O(log n) (modular exponentiation)  \n",
        "- Average case: O(n³) (key generation and encryption/decryption)  \n",
        "- Worst case: O(n³)  \n",
        "- Space: O(n) (size of keys and intermediate values)  \n",
        "---"
      ],
      "metadata": {
        "id": "4ppxr3VCZnWz"
      }
    },
    {
      "cell_type": "code",
      "source": [
        "# ✅ Python Implementation (Simplified for demonstration)\n",
        "\n",
        "def gcd(a, b):\n",
        "    while b:\n",
        "        a, b = b, a % b\n",
        "    return a\n",
        "\n",
        "def mod_inverse(e, phi):\n",
        "    def extended_gcd(a, b):\n",
        "        if a == 0:\n",
        "            return (b, 0, 1)\n",
        "        g, x1, y1 = extended_gcd(b % a, a)\n",
        "        return (g, y1 - (b // a) * x1, x1)\n",
        "    g, x, _ = extended_gcd(e, phi)\n",
        "    if g != 1:\n",
        "        raise Exception(\"Modular inverse doesn't exist.\")\n",
        "    return x % phi\n",
        "\n",
        "def rsa_keygen(p, q):\n",
        "    n = p * q\n",
        "    phi = (p - 1) * (q - 1)\n",
        "    e = 3\n",
        "    while gcd(e, phi) != 1:\n",
        "        e += 2\n",
        "    d = mod_inverse(e, phi)\n",
        "    return (e, n), (d, n)  # public, private\n",
        "\n",
        "def encrypt_rsa(message, pub_key):\n",
        "    e, n = pub_key\n",
        "    return pow(message, e, n)\n",
        "\n",
        "def decrypt_rsa(cipher, priv_key):\n",
        "    d, n = priv_key\n",
        "    return pow(cipher, d, n)\n"
      ],
      "metadata": {
        "id": "eSk0llDnZnGH"
      },
      "execution_count": 52,
      "outputs": []
    },
    {
      "cell_type": "code",
      "source": [
        "# 🧪 Test Cases with Timer and Explanation\n",
        "\n",
        "import time\n",
        "\n",
        "# Using small primes for demonstration\n",
        "p, q = 61, 53\n",
        "\n",
        "start = time.time()\n",
        "public_key, private_key = rsa_keygen(p, q)\n",
        "message = 42\n",
        "\n",
        "cipher = encrypt_rsa(message, public_key)\n",
        "decrypted = decrypt_rsa(cipher, private_key)\n",
        "end = time.time()\n",
        "\n",
        "print(\"Original message:\", message)\n",
        "print(\"Encrypted message:\", cipher)\n",
        "print(\"Decrypted message:\", decrypted)\n",
        "print(\"Public key:\", public_key)\n",
        "print(\"Private key:\", private_key)\n",
        "print(f\"Time taken: {end - start:.6f} seconds\")\n",
        "# Explanation: Message 42 is encrypted and decrypted successfully using RSA\n"
      ],
      "metadata": {
        "colab": {
          "base_uri": "https://localhost:8080/"
        },
        "id": "EOlppc-2Zm4W",
        "outputId": "87dece3d-7d71-4de6-e082-587d360c59a8"
      },
      "execution_count": 53,
      "outputs": [
        {
          "output_type": "stream",
          "name": "stdout",
          "text": [
            "Original message: 42\n",
            "Encrypted message: 240\n",
            "Decrypted message: 42\n",
            "Public key: (7, 3233)\n",
            "Private key: (1783, 3233)\n",
            "Time taken: 0.000236 seconds\n"
          ]
        }
      ]
    },
    {
      "cell_type": "markdown",
      "source": [
        "---\n",
        "\n",
        "### **📘 Caesar Cipher**  \n",
        "---  \n",
        "**🔧 How It Works:**  \n",
        "Caesar Cipher is a **substitution cipher** where each letter in the plaintext is shifted by a fixed number of positions in the alphabet. For example, with a shift of 3, A becomes D, B becomes E, and so on. It is simple but easily breakable due to its limited number of possible shifts.\n",
        "\n",
        "**⚙️ Performance:**  \n",
        "- Best case: O(n)  \n",
        "- Average case: O(n)  \n",
        "- Worst case: O(n) (n = length of message)  \n",
        "- Space: O(n) (to store output)  \n",
        "---"
      ],
      "metadata": {
        "id": "P_LQCa3cZmoH"
      }
    },
    {
      "cell_type": "code",
      "source": [
        "# ✅ Python Implementation\n",
        "\n",
        "def caesar_encrypt(text, shift):\n",
        "    result = \"\"\n",
        "    for char in text:\n",
        "        if char.isalpha():\n",
        "            offset = ord('A') if char.isupper() else ord('a')\n",
        "            result += chr((ord(char) - offset + shift) % 26 + offset)\n",
        "        else:\n",
        "            result += char\n",
        "    return result\n",
        "\n",
        "def caesar_decrypt(ciphertext, shift):\n",
        "    return caesar_encrypt(ciphertext, -shift)\n"
      ],
      "metadata": {
        "id": "96cVk8d5ZmZ9"
      },
      "execution_count": 54,
      "outputs": []
    },
    {
      "cell_type": "code",
      "source": [
        "# 🧪 Test Cases with Timer and Explanation\n",
        "\n",
        "import time\n",
        "\n",
        "# Test Case 1\n",
        "message1 = \"Hello World!\"\n",
        "shift1 = 3\n",
        "\n",
        "start = time.time()\n",
        "encrypted1 = caesar_encrypt(message1, shift1)\n",
        "decrypted1 = caesar_decrypt(encrypted1, shift1)\n",
        "end = time.time()\n",
        "\n",
        "print(\"Original message:\", message1)\n",
        "print(\"Encrypted message:\", encrypted1)\n",
        "print(\"Decrypted message:\", decrypted1)\n",
        "print(f\"Time taken: {end - start:.6f} seconds\")\n",
        "# Explanation: Each letter is shifted by 3 → 'H' → 'K', 'E' → 'H', etc.\n",
        "\n",
        "# Test Case 2\n",
        "message2 = \"Python 3.8\"\n",
        "shift2 = 5\n",
        "\n",
        "start = time.time()\n",
        "encrypted2 = caesar_encrypt(message2, shift2)\n",
        "decrypted2 = caesar_decrypt(encrypted2, shift2)\n",
        "end = time.time()\n",
        "\n",
        "print(\"\\nOriginal message:\", message2)\n",
        "print(\"Encrypted message:\", encrypted2)\n",
        "print(\"Decrypted message:\", decrypted2)\n",
        "print(f\"Time taken: {end - start:.6f} seconds\")\n",
        "# Explanation: Only alphabetic characters are shifted; digits and symbols stay the same\n"
      ],
      "metadata": {
        "colab": {
          "base_uri": "https://localhost:8080/"
        },
        "id": "BvYTYvhQZmMk",
        "outputId": "62ad9b2b-f282-4e6d-b16f-c513b86787d2"
      },
      "execution_count": 55,
      "outputs": [
        {
          "output_type": "stream",
          "name": "stdout",
          "text": [
            "Original message: Hello World!\n",
            "Encrypted message: Khoor Zruog!\n",
            "Decrypted message: Hello World!\n",
            "Time taken: 0.000152 seconds\n",
            "\n",
            "Original message: Python 3.8\n",
            "Encrypted message: Udymts 3.8\n",
            "Decrypted message: Python 3.8\n",
            "Time taken: 0.000161 seconds\n"
          ]
        }
      ]
    },
    {
      "cell_type": "markdown",
      "source": [
        "---\n",
        "\n",
        "### **📘 SHA-256 Hashing**  \n",
        "---  \n",
        "**🔧 How It Works:**  \n",
        "SHA-256 is a **cryptographic hash function** that takes any input and produces a **fixed 256-bit (32-byte)** output. It works by applying a series of **bitwise operations, logical functions, and modular additions** over multiple rounds. It's used to ensure data integrity and is designed to be **one-way and collision-resistant**.\n",
        "\n",
        "**⚙️ Performance:**  \n",
        "- Best case: O(n)  \n",
        "- Average case: O(n)  \n",
        "- Worst case: O(n) (n = length of input in bits)  \n",
        "- Space: O(1) (fixed-size output, no additional memory required)  \n",
        "---"
      ],
      "metadata": {
        "id": "PCVUwfFXZl7G"
      }
    },
    {
      "cell_type": "code",
      "source": [
        "# ✅ Python Implementation (using hashlib)\n",
        "\n",
        "import hashlib\n",
        "\n",
        "def sha256_hash(text):\n",
        "    return hashlib.sha256(text.encode()).hexdigest()\n"
      ],
      "metadata": {
        "id": "aMSssPxJZlpn"
      },
      "execution_count": 56,
      "outputs": []
    },
    {
      "cell_type": "code",
      "source": [
        "# 🧪 Test Cases with Timer and Explanation\n",
        "\n",
        "import time\n",
        "\n",
        "# Test Case 1\n",
        "text1 = \"hello world\"\n",
        "\n",
        "start = time.time()\n",
        "hash1 = sha256_hash(text1)\n",
        "end = time.time()\n",
        "\n",
        "print(\"Input text:\", text1)\n",
        "print(\"SHA-256 hash:\", hash1)\n",
        "print(f\"Time taken: {end - start:.6f} seconds\")\n",
        "# Explanation: Hash digest is fixed-length and changes completely with minor text changes\n",
        "\n",
        "# Test Case 2\n",
        "text2 = \"hello world!\"\n",
        "\n",
        "start = time.time()\n",
        "hash2 = sha256_hash(text2)\n",
        "end = time.time()\n",
        "\n",
        "print(\"\\nInput text:\", text2)\n",
        "print(\"SHA-256 hash:\", hash2)\n",
        "print(f\"Time taken: {end - start:.6f} seconds\")\n",
        "# Explanation: Adding just one character completely changes the output hash\n"
      ],
      "metadata": {
        "colab": {
          "base_uri": "https://localhost:8080/"
        },
        "id": "2i4xiEFPZlbQ",
        "outputId": "44913aef-85c8-4455-9023-a7575d617bfb"
      },
      "execution_count": 57,
      "outputs": [
        {
          "output_type": "stream",
          "name": "stdout",
          "text": [
            "Input text: hello world\n",
            "SHA-256 hash: b94d27b9934d3e08a52e52d7da7dabfac484efe37a5380ee9088f7ace2efcde9\n",
            "Time taken: 0.000145 seconds\n",
            "\n",
            "Input text: hello world!\n",
            "SHA-256 hash: 7509e5bda0c762d2bac7f90d758b5b2263fa01ccbc542ab5e3df163be08e6ca9\n",
            "Time taken: 0.000103 seconds\n"
          ]
        }
      ]
    },
    {
      "cell_type": "markdown",
      "source": [
        "# MCQ Type Questions\n"
      ],
      "metadata": {
        "id": "tZFvIyBua2i_"
      }
    },
    {
      "cell_type": "markdown",
      "source": [
        "Question 1"
      ],
      "metadata": {
        "id": "T4G_W9Y8ooVw"
      }
    },
    {
      "cell_type": "code",
      "source": [
        "# Q1. Quick Sort\n",
        "# What will be the output of the quick_sort function on the input list below?\n",
        "\n",
        "arr = [4, 1, 3]\n",
        "\n",
        "# Options:\n",
        "# A. [1, 3, 4]\n",
        "# B. [4, 3, 1]\n",
        "# C. [3, 1, 4]\n",
        "# D. [1, 4, 3]\n"
      ],
      "metadata": {
        "id": "8zl7dMqln6bh"
      },
      "execution_count": 58,
      "outputs": []
    },
    {
      "cell_type": "code",
      "source": [
        "# ✅ Correct Answer: A\n",
        "# Explanation: Pivot = 4, partitioned into [1, 3] and [], recursively sorted: [1, 3, 4]\n"
      ],
      "metadata": {
        "id": "AA3UqTYDn73N"
      },
      "execution_count": 65,
      "outputs": []
    },
    {
      "cell_type": "markdown",
      "source": [
        "Question 2\n",
        "\n",
        "\n"
      ],
      "metadata": {
        "id": "CEKQXPt1oqwX"
      }
    },
    {
      "cell_type": "code",
      "source": [
        "# Q2. Merge Sort\n",
        "# What will be the output of the merge_sort function on the input list below?\n",
        "\n",
        "arr = [5, 2, 1]\n",
        "\n",
        "# Options:\n",
        "# A. [1, 2, 5]\n",
        "# B. [2, 1, 5]\n",
        "# C. [5, 2, 1]\n",
        "# D. [1, 5, 2]\n"
      ],
      "metadata": {
        "id": "BQyr_C09oBm6"
      },
      "execution_count": 64,
      "outputs": []
    },
    {
      "cell_type": "code",
      "source": [
        "# ✅ Correct Answer: A\n",
        "# Explanation: Splits into [5] and [2, 1], sorts to [1, 2], merges with [5] → [1, 2, 5]\n"
      ],
      "metadata": {
        "id": "NYbRbqJCoIU8"
      },
      "execution_count": 63,
      "outputs": []
    },
    {
      "cell_type": "markdown",
      "source": [
        "Question 3"
      ],
      "metadata": {
        "id": "1uJm6K9soyIA"
      }
    },
    {
      "cell_type": "code",
      "source": [
        "# Q3. Binary Search\n",
        "# What index will binary_search return for the value 4 in the sorted list below?\n",
        "\n",
        "arr = [1, 2, 4, 6, 7]\n",
        "target = 4\n",
        "\n",
        "# Options:\n",
        "# A. 1\n",
        "# B. 2\n",
        "# C. 3\n",
        "# D. 4\n"
      ],
      "metadata": {
        "id": "lNrqHSl_oLvb"
      },
      "execution_count": 62,
      "outputs": []
    },
    {
      "cell_type": "code",
      "source": [
        "# ✅ Correct Answer: B\n",
        "# Explanation: 4 is found at index 2 using binary search\n"
      ],
      "metadata": {
        "id": "8WSA3IRAoRWk"
      },
      "execution_count": 61,
      "outputs": []
    },
    {
      "cell_type": "markdown",
      "source": [
        "Question 4"
      ],
      "metadata": {
        "id": "kvTNm5t5oz19"
      }
    },
    {
      "cell_type": "code",
      "source": [
        "# Q4. Dijkstra’s Algorithm\n",
        "# What is the shortest distance from node 'A' to node 'D' in the graph below?\n",
        "\n",
        "graph = {\n",
        "    'A': [('B', 1)],\n",
        "    'B': [('C', 2)],\n",
        "    'C': [('D', 1)],\n",
        "    'D': []\n",
        "}\n",
        "start = 'A'\n",
        "\n",
        "# Options:\n",
        "# A. 1\n",
        "# B. 2\n",
        "# C. 3\n",
        "# D. 4\n"
      ],
      "metadata": {
        "id": "UqQMBiQEobXY"
      },
      "execution_count": 66,
      "outputs": []
    },
    {
      "cell_type": "code",
      "source": [
        "# ✅ Correct Answer: D\n",
        "# Explanation: A → B (1) → C (2) → D (1) = 4\n"
      ],
      "metadata": {
        "id": "9SfK-N3roeeF"
      },
      "execution_count": 67,
      "outputs": []
    },
    {
      "cell_type": "markdown",
      "source": [
        "Question 5"
      ],
      "metadata": {
        "id": "gbQB7aF1o1u3"
      }
    },
    {
      "cell_type": "code",
      "source": [
        "# Q5. Depth-First Search (DFS)\n",
        "# What is the order of visited nodes starting from node 1 in the graph below?\n",
        "\n",
        "graph = {\n",
        "    1: [2, 3],\n",
        "    2: [4],\n",
        "    3: [],\n",
        "    4: []\n",
        "}\n",
        "\n",
        "# Options:\n",
        "# A. [1, 2, 4, 3]\n",
        "# B. [1, 3, 2, 4]\n",
        "# C. [1, 2, 3, 4]\n",
        "# D. [1, 4, 2, 3]\n"
      ],
      "metadata": {
        "id": "xv1dliyaohPw"
      },
      "execution_count": 68,
      "outputs": []
    },
    {
      "cell_type": "code",
      "source": [
        "# ✅ Correct Answer: A\n",
        "# Explanation: DFS visits 1 → 2 → 4 → then backtracks and visits 3\n"
      ],
      "metadata": {
        "id": "YbCNSvIKoj9M"
      },
      "execution_count": 69,
      "outputs": []
    },
    {
      "cell_type": "markdown",
      "source": [
        "Question 6"
      ],
      "metadata": {
        "id": "wS6-aObro9g8"
      }
    },
    {
      "cell_type": "code",
      "source": [
        "# Q6. Breadth-First Search (BFS)\n",
        "# What is the order of visited nodes starting from node 'A'?\n",
        "\n",
        "graph = {\n",
        "    'A': ['B', 'C'],\n",
        "    'B': ['D'],\n",
        "    'C': ['E'],\n",
        "    'D': [],\n",
        "    'E': []\n",
        "}\n",
        "\n",
        "# Options:\n",
        "# A. ['A', 'C', 'B', 'D', 'E']\n",
        "# B. ['A', 'B', 'C', 'D', 'E']\n",
        "# C. ['A', 'B', 'D', 'C', 'E']\n",
        "# D. ['A', 'D', 'E', 'B', 'C']\n"
      ],
      "metadata": {
        "id": "QzxMiYWao-Y_"
      },
      "execution_count": 70,
      "outputs": []
    },
    {
      "cell_type": "code",
      "source": [
        "# ✅ Correct Answer: B\n",
        "# Explanation: BFS visits level-by-level: A → B, C → D, E\n"
      ],
      "metadata": {
        "id": "QWuhywkfo-Hx"
      },
      "execution_count": 71,
      "outputs": []
    },
    {
      "cell_type": "markdown",
      "source": [
        "Question 7"
      ],
      "metadata": {
        "id": "r4sozHNMpDWh"
      }
    },
    {
      "cell_type": "code",
      "source": [
        "# Q7. Longest Common Subsequence (LCS)\n",
        "# What is the LCS length between s1 and s2?\n",
        "\n",
        "s1 = \"ABC\"\n",
        "s2 = \"AC\"\n",
        "\n",
        "# Options:\n",
        "# A. 3\n",
        "# B. 1\n",
        "# C. 2\n",
        "# D. 0\n"
      ],
      "metadata": {
        "id": "w22t5CMLpCKh"
      },
      "execution_count": 72,
      "outputs": []
    },
    {
      "cell_type": "code",
      "source": [
        "# ✅ Correct Answer: C\n",
        "# Explanation: LCS is \"AC\", length 2\n"
      ],
      "metadata": {
        "id": "aPMzFPPspDCM"
      },
      "execution_count": 73,
      "outputs": []
    },
    {
      "cell_type": "markdown",
      "source": [
        "Question 8"
      ],
      "metadata": {
        "id": "CB6nKjsHpJG5"
      }
    },
    {
      "cell_type": "code",
      "source": [
        "# Q8. 0/1 Knapsack\n",
        "# What is the maximum value that can be obtained with capacity = 5?\n",
        "\n",
        "weights = [2, 3]\n",
        "values = [20, 30]\n",
        "capacity = 5\n",
        "\n",
        "# Options:\n",
        "# A. 20\n",
        "# B. 30\n",
        "# C. 50\n",
        "# D. 0\n"
      ],
      "metadata": {
        "id": "V7KFPLldpKT0"
      },
      "execution_count": 74,
      "outputs": []
    },
    {
      "cell_type": "code",
      "source": [
        "# ✅ Correct Answer: C\n",
        "# Explanation: Include both items (2 + 3 ≤ 5) → total value = 20 + 30 = 50\n"
      ],
      "metadata": {
        "id": "hh4LlXKEpJ1p"
      },
      "execution_count": 75,
      "outputs": []
    },
    {
      "cell_type": "markdown",
      "source": [
        "Question 9"
      ],
      "metadata": {
        "id": "URmYHcZfpMwL"
      }
    },
    {
      "cell_type": "code",
      "source": [
        "# Q9. Fibonacci (DP)\n",
        "# What is the 6th Fibonacci number using bottom-up DP?\n",
        "\n",
        "n = 6\n",
        "\n",
        "# Options:\n",
        "# A. 8\n",
        "# B. 5\n",
        "# C. 13\n",
        "# D. 21\n"
      ],
      "metadata": {
        "id": "DWXmcwFOpNME"
      },
      "execution_count": 76,
      "outputs": []
    },
    {
      "cell_type": "code",
      "source": [
        "# ✅ Correct Answer: A\n",
        "# Explanation: Fibonacci(6) = 8 (0-based: [0, 1, 1, 2, 3, 5, 8])\n"
      ],
      "metadata": {
        "id": "E6LyGXStpNvP"
      },
      "execution_count": 77,
      "outputs": []
    },
    {
      "cell_type": "markdown",
      "source": [
        "Question 10"
      ],
      "metadata": {
        "id": "FKhJ7jIZpOTr"
      }
    },
    {
      "cell_type": "code",
      "source": [
        "# Q10. Linear Regression (Closed Form)\n",
        "# Given X = [[1], [2]] and y = [3, 5], what is the predicted slope (ignoring intercept)?\n",
        "\n",
        "# Options:\n",
        "# A. 1\n",
        "# B. 2\n",
        "# C. 3\n",
        "# D. 4\n"
      ],
      "metadata": {
        "id": "UsmTaluQpOyq"
      },
      "execution_count": 78,
      "outputs": []
    },
    {
      "cell_type": "code",
      "source": [
        "# ✅ Correct Answer: B\n",
        "# Explanation: Two points: (1,3) and (2,5) → slope = (5-3)/(2-1) = 2\n"
      ],
      "metadata": {
        "id": "67Ub892epPpq"
      },
      "execution_count": 79,
      "outputs": []
    },
    {
      "cell_type": "markdown",
      "source": [
        "# Word Problems"
      ],
      "metadata": {
        "id": "MGxL21EWqJ_o"
      }
    },
    {
      "cell_type": "markdown",
      "source": [
        "---\n",
        "## Problem 1: Route Planning with Traffic and Budget Constraints\n",
        "---\n",
        "### **Context:**\n",
        "You are designing a navigation system that helps users travel from one city to another. Each road segment has a travel time and a toll fee. A user wants to minimize travel time but also needs to stay within a given toll budget.\n",
        "\n",
        "### **Algorithms to Use:**\n",
        "\n",
        "**Dijkstra’s Algorithm** – to find the shortest path (based on time)\n",
        "\n",
        "**0/1 Knapsack** – to choose a subset of toll roads within budget constraints\n"
      ],
      "metadata": {
        "id": "1FfBnkThqV7Q"
      }
    },
    {
      "cell_type": "code",
      "source": [],
      "metadata": {
        "id": "wQQrbHnsqW7i"
      },
      "execution_count": null,
      "outputs": []
    },
    {
      "cell_type": "markdown",
      "source": [
        "---\n",
        "## Problem 2: Secure File Compression for Cloud Backup\n",
        "---\n",
        "### **Context:**\n",
        "A software company wants to compress files before uploading them to a cloud server. To ensure data integrity, they also hash the compressed files before upload. During retrieval, the files are re-hashed and verified.\n",
        "\n",
        "### **Algorithms to Use:**\n",
        "\n",
        "**Huffman Coding** – for lossless compression of file data\n",
        "\n",
        "**SHA-256 Hashing** – for verifying integrity using cryptographic hash values\n"
      ],
      "metadata": {
        "id": "bRK8dzihqX2k"
      }
    },
    {
      "cell_type": "code",
      "source": [],
      "metadata": {
        "id": "mMo41PFXrLu5"
      },
      "execution_count": null,
      "outputs": []
    },
    {
      "cell_type": "markdown",
      "source": [
        "---\n",
        "## Problem 3: Smart Exam Scheduling System\n",
        "---\n",
        "### **Context:**\n",
        "A university needs to generate an exam schedule where no student has overlapping exams. The system must also find groups of students with overlapping course enrollments to ensure spacing in their exam schedule.\n",
        "\n",
        "### **Algorithms to Use:**\n",
        "\n",
        "**Activity Selection Problem** – to schedule exams in non-overlapping slots\n",
        "\n",
        "**Depth-First Search (DFS)** – to traverse student-course graphs to detect scheduling conflicts\n"
      ],
      "metadata": {
        "id": "NlR4eoUFrMGy"
      }
    },
    {
      "cell_type": "code",
      "source": [],
      "metadata": {
        "id": "QjtjWiEmrVPJ"
      },
      "execution_count": null,
      "outputs": []
    },
    {
      "cell_type": "markdown",
      "source": [
        "---\n",
        "## Problem 4: Online Game – Safe Zone Placement\n",
        "---\n",
        "### **Context:**\n",
        "In a strategy-based online game, players must place safe zones on a battlefield where they do not threaten each other. Once placed, the system must determine whether a safe route exists between two zones without crossing hostile regions.\n",
        "\n",
        "### **Algorithms to Use:**\n",
        "\n",
        "**N-Queens Problem** – to ensure zones are placed without conflict\n",
        "\n",
        "**Breadth-First Search (BFS)** – to verify if a path exists between zones avoiding restricted tiles\n"
      ],
      "metadata": {
        "id": "niHj6rsLrV5J"
      }
    },
    {
      "cell_type": "code",
      "source": [],
      "metadata": {
        "id": "to0ysr-TrX4b"
      },
      "execution_count": 80,
      "outputs": []
    },
    {
      "cell_type": "markdown",
      "source": [
        "---\n",
        "## Problem 5: Digital Signature Verification System\n",
        "---\n",
        "### **Context:**\n",
        "A secure messaging platform wants to allow senders to sign messages and receivers to verify that the messages haven't been tampered with. The signature is created using the sender's private key, and the content is hashed before and after transmission.\n",
        "\n",
        "### **Algorithms to Use:**\n",
        "\n",
        "**RSA Encryption/Decryption** – for digital signing and verifying messages\n",
        "\n",
        "**SHA-256 Hashing** – to ensure message content hasn’t changed during transmission\n"
      ],
      "metadata": {
        "id": "xwRhuA_arYMH"
      }
    },
    {
      "cell_type": "code",
      "source": [],
      "metadata": {
        "id": "DQmaNczOri2J"
      },
      "execution_count": null,
      "outputs": []
    },
    {
      "cell_type": "markdown",
      "source": [
        "---\n",
        "## Problem 6: Investor Matching in a Business Directory App\n",
        "---\n",
        "### **Context:**\n",
        "You're building a social networking-style business directory. Users submit profiles of investors and startups, and the system needs to:\n",
        "1. Search for relevant investor profiles by keyword.\n",
        "2. Rank them based on the frequency of matched terms.\n",
        "\n",
        "### **Algorithms to Use:**\n",
        "\n",
        "**Trie** – for fast prefix-based keyword lookup\n",
        "\n",
        "**KMP Algorithm** – for substring pattern matching within descriptions\n"
      ],
      "metadata": {
        "id": "pWvIt8QRrwkb"
      }
    },
    {
      "cell_type": "code",
      "source": [],
      "metadata": {
        "id": "eAb2VsHcrx5W"
      },
      "execution_count": null,
      "outputs": []
    },
    {
      "cell_type": "markdown",
      "source": [
        "---\n",
        "## Problem 7: Emergency Response Drone Routing\n",
        "---\n",
        "### **Context:**\n",
        "A city dispatch system controls drones that must reach emergency sites as fast as possible, but with limited battery life. The system must:\n",
        "1. Choose the fastest route to the emergency site.\n",
        "2. Ensure the drone has enough energy for the round trip.\n",
        "\n",
        "### **Algorithms to Use:**\n",
        "\n",
        "**Dijkstra’s Algorithm** – to find the shortest route to the site\n",
        "\n",
        "**Subset Sum** – to verify if battery can support a specific distance\n"
      ],
      "metadata": {
        "id": "Z40LGD8nr0eU"
      }
    },
    {
      "cell_type": "code",
      "source": [],
      "metadata": {
        "id": "dkVdnRB3rz5U"
      },
      "execution_count": null,
      "outputs": []
    },
    {
      "cell_type": "markdown",
      "source": [
        "---\n",
        "## Problem 8: AI Interview Bot – Answer Ranking\n",
        "---\n",
        "### **Context:**\n",
        "An AI bot is designed to conduct preliminary interviews. It compares a candidate's answers with a model answer and assigns a match score. It also checks for key phrases to confirm understanding.\n",
        "\n",
        "### **Algorithms to Use:**\n",
        "\n",
        "**Edit Distance (Levenshtein Distance)** – to compute similarity between candidate and model answers\n",
        "\n",
        "**Rabin-Karp Algorithm** – to efficiently detect key phrases in long text\n"
      ],
      "metadata": {
        "id": "1MPGC-Usr3ED"
      }
    },
    {
      "cell_type": "code",
      "source": [],
      "metadata": {
        "id": "1k5Aldk0r7LH"
      },
      "execution_count": null,
      "outputs": []
    },
    {
      "cell_type": "markdown",
      "source": [
        "---\n",
        "## Problem 9: Compiler – Parenthesis Checker and Expression Optimizer\n",
        "---\n",
        "### **Context:**\n",
        "You are building a compiler module that parses mathematical expressions. It needs to:\n",
        "1. Check if brackets and structure are valid.\n",
        "2. Reorder expression using optimal evaluation sequence.\n",
        "\n",
        "### **Algorithms to Use:**\n",
        "\n",
        "**DFS (on expression tree)** – to validate syntax and nesting\n",
        "\n",
        "**Knapsack / LCS** – to compute optimal subexpression reordering or alignment\n"
      ],
      "metadata": {
        "id": "VKW71WrGr7hi"
      }
    },
    {
      "cell_type": "code",
      "source": [],
      "metadata": {
        "id": "YcPFRD2UsAz8"
      },
      "execution_count": null,
      "outputs": []
    },
    {
      "cell_type": "markdown",
      "source": [
        "---\n",
        "## Problem 10: Visual Map Boundary Detection\n",
        "---\n",
        "### **Context:**\n",
        "A geospatial analytics platform processes map tiles and needs to:\n",
        "1. Identify the **outer boundary** of a cluster of points.\n",
        "2. Detect and report **intersections** between different map layers.\n",
        "\n",
        "### **Algorithms to Use:**\n",
        "\n",
        "**Convex Hull (Graham Scan)** – to extract the outer boundary of a point cluster\n",
        "\n",
        "**Line Segment Intersection** – to find overlaps between map boundaries"
      ],
      "metadata": {
        "id": "RNmLtLCssALx"
      }
    },
    {
      "cell_type": "code",
      "source": [],
      "metadata": {
        "id": "THOv7Y1asOxD"
      },
      "execution_count": null,
      "outputs": []
    }
  ]
}